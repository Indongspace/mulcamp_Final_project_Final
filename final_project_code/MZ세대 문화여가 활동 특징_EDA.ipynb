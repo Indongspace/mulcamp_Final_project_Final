{
 "cells": [
  {
   "cell_type": "code",
   "execution_count": 1,
   "id": "23c6e490-375b-472f-92c3-85bcbb41ba8a",
   "metadata": {},
   "outputs": [
    {
     "data": {
      "text/html": [
       "<div>\n",
       "<style scoped>\n",
       "    .dataframe tbody tr th:only-of-type {\n",
       "        vertical-align: middle;\n",
       "    }\n",
       "\n",
       "    .dataframe tbody tr th {\n",
       "        vertical-align: top;\n",
       "    }\n",
       "\n",
       "    .dataframe thead th {\n",
       "        text-align: right;\n",
       "    }\n",
       "</style>\n",
       "<table border=\"1\" class=\"dataframe\">\n",
       "  <thead>\n",
       "    <tr style=\"text-align: right;\">\n",
       "      <th></th>\n",
       "      <th>응답자ID</th>\n",
       "      <th>조사시작일자</th>\n",
       "      <th>성별구분코드</th>\n",
       "      <th>연령대구분명</th>\n",
       "      <th>답변자거주지역명</th>\n",
       "      <th>가구소득정도명</th>\n",
       "      <th>레저시간사용목적1순위값</th>\n",
       "      <th>레저시간사용목적2순위값</th>\n",
       "      <th>평일일평균레저시간값</th>\n",
       "      <th>주말일평균레저시간값</th>\n",
       "      <th>레저시간휴식오락사용비율</th>\n",
       "      <th>레저시간취미사용비율</th>\n",
       "      <th>레저시간본인계발사용비율</th>\n",
       "      <th>레저시간대인관계교제사용비율</th>\n",
       "      <th>레저시간기타사용비율</th>\n",
       "      <th>관심레저활동1순위값</th>\n",
       "      <th>관심레저활동2순위값</th>\n",
       "      <th>관심레저활동3순위값</th>\n",
       "      <th>관심레저활동4순위값</th>\n",
       "      <th>관심레저활동5순위값</th>\n",
       "    </tr>\n",
       "  </thead>\n",
       "  <tbody>\n",
       "    <tr>\n",
       "      <th>0</th>\n",
       "      <td>236099</td>\n",
       "      <td>20240424</td>\n",
       "      <td>M</td>\n",
       "      <td>20대</td>\n",
       "      <td>서울특별시</td>\n",
       "      <td>700만원 이상</td>\n",
       "      <td>스트레스 해소를 위해</td>\n",
       "      <td>남는 시간을 보내기 위해</td>\n",
       "      <td>2</td>\n",
       "      <td>10</td>\n",
       "      <td>50</td>\n",
       "      <td>20</td>\n",
       "      <td>5</td>\n",
       "      <td>25</td>\n",
       "      <td>0</td>\n",
       "      <td>게임</td>\n",
       "      <td>볼링_ 당구-포켓볼 직접 하기</td>\n",
       "      <td>구기스포츠 직접 하기</td>\n",
       "      <td>친구-이성친구 만남</td>\n",
       "      <td>낮잠자기</td>\n",
       "    </tr>\n",
       "    <tr>\n",
       "      <th>1</th>\n",
       "      <td>289713</td>\n",
       "      <td>20240424</td>\n",
       "      <td>M</td>\n",
       "      <td>20대</td>\n",
       "      <td>대전광역시</td>\n",
       "      <td>300만원 미만</td>\n",
       "      <td>마음의 안정-휴식을 위해</td>\n",
       "      <td>스트레스 해소를 위해</td>\n",
       "      <td>2</td>\n",
       "      <td>10</td>\n",
       "      <td>10</td>\n",
       "      <td>60</td>\n",
       "      <td>10</td>\n",
       "      <td>20</td>\n",
       "      <td>0</td>\n",
       "      <td>헬스-보디빌딩 직접 하기</td>\n",
       "      <td>걷기-속보-조깅 직접 하기</td>\n",
       "      <td>독서</td>\n",
       "      <td>게임</td>\n",
       "      <td>친구-이성친구 만남</td>\n",
       "    </tr>\n",
       "    <tr>\n",
       "      <th>2</th>\n",
       "      <td>306059</td>\n",
       "      <td>20240424</td>\n",
       "      <td>M</td>\n",
       "      <td>20대</td>\n",
       "      <td>세종특별자치시</td>\n",
       "      <td>300만원 미만</td>\n",
       "      <td>마음의 안정-휴식을 위해</td>\n",
       "      <td>스트레스 해소를 위해</td>\n",
       "      <td>3</td>\n",
       "      <td>7</td>\n",
       "      <td>50</td>\n",
       "      <td>30</td>\n",
       "      <td>20</td>\n",
       "      <td>0</td>\n",
       "      <td>0</td>\n",
       "      <td>산책-걷기</td>\n",
       "      <td>없음</td>\n",
       "      <td>없음</td>\n",
       "      <td>없음</td>\n",
       "      <td>없음</td>\n",
       "    </tr>\n",
       "    <tr>\n",
       "      <th>3</th>\n",
       "      <td>332896</td>\n",
       "      <td>20240424</td>\n",
       "      <td>F</td>\n",
       "      <td>30대</td>\n",
       "      <td>서울특별시</td>\n",
       "      <td>300만원 미만</td>\n",
       "      <td>자기 계발을 위해</td>\n",
       "      <td>건강 관리를 위해</td>\n",
       "      <td>3</td>\n",
       "      <td>10</td>\n",
       "      <td>10</td>\n",
       "      <td>40</td>\n",
       "      <td>30</td>\n",
       "      <td>20</td>\n",
       "      <td>0</td>\n",
       "      <td>헬스-보디빌딩 직접 하기</td>\n",
       "      <td>어학-기술-자격증 취득</td>\n",
       "      <td>영상 컨텐츠 시청</td>\n",
       "      <td>등산 직접 하기</td>\n",
       "      <td>친구-이성친구 만남</td>\n",
       "    </tr>\n",
       "    <tr>\n",
       "      <th>4</th>\n",
       "      <td>335203</td>\n",
       "      <td>20240424</td>\n",
       "      <td>M</td>\n",
       "      <td>20대</td>\n",
       "      <td>부산광역시</td>\n",
       "      <td>300이상500만원 미만</td>\n",
       "      <td>자기만족-즐거움을 위해</td>\n",
       "      <td>건강 관리를 위해</td>\n",
       "      <td>4</td>\n",
       "      <td>10</td>\n",
       "      <td>40</td>\n",
       "      <td>15</td>\n",
       "      <td>30</td>\n",
       "      <td>15</td>\n",
       "      <td>0</td>\n",
       "      <td>독서</td>\n",
       "      <td>등산 직접 하기</td>\n",
       "      <td>없음</td>\n",
       "      <td>없음</td>\n",
       "      <td>없음</td>\n",
       "    </tr>\n",
       "  </tbody>\n",
       "</table>\n",
       "</div>"
      ],
      "text/plain": [
       "    응답자ID    조사시작일자 성별구분코드 연령대구분명 답변자거주지역명        가구소득정도명   레저시간사용목적1순위값  \\\n",
       "0  236099  20240424      M    20대    서울특별시       700만원 이상    스트레스 해소를 위해   \n",
       "1  289713  20240424      M    20대    대전광역시       300만원 미만  마음의 안정-휴식을 위해   \n",
       "2  306059  20240424      M    20대  세종특별자치시       300만원 미만  마음의 안정-휴식을 위해   \n",
       "3  332896  20240424      F    30대    서울특별시       300만원 미만      자기 계발을 위해   \n",
       "4  335203  20240424      M    20대    부산광역시  300이상500만원 미만   자기만족-즐거움을 위해   \n",
       "\n",
       "    레저시간사용목적2순위값  평일일평균레저시간값  주말일평균레저시간값  레저시간휴식오락사용비율  레저시간취미사용비율  \\\n",
       "0  남는 시간을 보내기 위해           2          10            50          20   \n",
       "1    스트레스 해소를 위해           2          10            10          60   \n",
       "2    스트레스 해소를 위해           3           7            50          30   \n",
       "3      건강 관리를 위해           3          10            10          40   \n",
       "4      건강 관리를 위해           4          10            40          15   \n",
       "\n",
       "   레저시간본인계발사용비율  레저시간대인관계교제사용비율  레저시간기타사용비율     관심레저활동1순위값        관심레저활동2순위값  \\\n",
       "0             5              25           0             게임  볼링_ 당구-포켓볼 직접 하기   \n",
       "1            10              20           0  헬스-보디빌딩 직접 하기    걷기-속보-조깅 직접 하기   \n",
       "2            20               0           0          산책-걷기                없음   \n",
       "3            30              20           0  헬스-보디빌딩 직접 하기      어학-기술-자격증 취득   \n",
       "4            30              15           0             독서          등산 직접 하기   \n",
       "\n",
       "    관심레저활동3순위값  관심레저활동4순위값  관심레저활동5순위값  \n",
       "0  구기스포츠 직접 하기  친구-이성친구 만남        낮잠자기  \n",
       "1           독서          게임  친구-이성친구 만남  \n",
       "2           없음          없음          없음  \n",
       "3    영상 컨텐츠 시청    등산 직접 하기  친구-이성친구 만남  \n",
       "4           없음          없음          없음  "
      ]
     },
     "execution_count": 1,
     "metadata": {},
     "output_type": "execute_result"
    }
   ],
   "source": [
    "import pandas as pd\n",
    "import numpy as np\n",
    "\n",
    "df = pd.read_csv('data/MZ세대 문화여가 활동 특징_20240424.csv')\n",
    "df.head()"
   ]
  },
  {
   "cell_type": "code",
   "execution_count": 2,
   "id": "e2922265-0d52-434e-afe8-5153163fe9d8",
   "metadata": {},
   "outputs": [
    {
     "data": {
      "text/plain": [
       "0    236099\n",
       "1    289713\n",
       "2    306059\n",
       "Name: 응답자ID, dtype: int64"
      ]
     },
     "execution_count": 2,
     "metadata": {},
     "output_type": "execute_result"
    }
   ],
   "source": [
    "ID = df['응답자ID'].copy()\n",
    "ID.head(3)"
   ]
  },
  {
   "cell_type": "code",
   "execution_count": 3,
   "id": "42337f5a-64f2-4527-a648-c9688a38a649",
   "metadata": {},
   "outputs": [
    {
     "data": {
      "text/html": [
       "<div>\n",
       "<style scoped>\n",
       "    .dataframe tbody tr th:only-of-type {\n",
       "        vertical-align: middle;\n",
       "    }\n",
       "\n",
       "    .dataframe tbody tr th {\n",
       "        vertical-align: top;\n",
       "    }\n",
       "\n",
       "    .dataframe thead th {\n",
       "        text-align: right;\n",
       "    }\n",
       "</style>\n",
       "<table border=\"1\" class=\"dataframe\">\n",
       "  <thead>\n",
       "    <tr style=\"text-align: right;\">\n",
       "      <th></th>\n",
       "      <th>성별구분코드</th>\n",
       "      <th>연령대구분명</th>\n",
       "      <th>답변자거주지역명</th>\n",
       "      <th>가구소득정도명</th>\n",
       "      <th>레저시간사용목적1순위값</th>\n",
       "      <th>레저시간사용목적2순위값</th>\n",
       "      <th>평일일평균레저시간값</th>\n",
       "      <th>주말일평균레저시간값</th>\n",
       "      <th>레저시간휴식오락사용비율</th>\n",
       "      <th>레저시간취미사용비율</th>\n",
       "      <th>레저시간본인계발사용비율</th>\n",
       "      <th>레저시간대인관계교제사용비율</th>\n",
       "      <th>레저시간기타사용비율</th>\n",
       "      <th>관심레저활동1순위값</th>\n",
       "      <th>관심레저활동2순위값</th>\n",
       "      <th>관심레저활동3순위값</th>\n",
       "      <th>관심레저활동4순위값</th>\n",
       "      <th>관심레저활동5순위값</th>\n",
       "    </tr>\n",
       "  </thead>\n",
       "  <tbody>\n",
       "    <tr>\n",
       "      <th>0</th>\n",
       "      <td>M</td>\n",
       "      <td>20대</td>\n",
       "      <td>서울특별시</td>\n",
       "      <td>700만원 이상</td>\n",
       "      <td>스트레스 해소를 위해</td>\n",
       "      <td>남는 시간을 보내기 위해</td>\n",
       "      <td>2</td>\n",
       "      <td>10</td>\n",
       "      <td>50</td>\n",
       "      <td>20</td>\n",
       "      <td>5</td>\n",
       "      <td>25</td>\n",
       "      <td>0</td>\n",
       "      <td>게임</td>\n",
       "      <td>볼링_ 당구-포켓볼 직접 하기</td>\n",
       "      <td>구기스포츠 직접 하기</td>\n",
       "      <td>친구-이성친구 만남</td>\n",
       "      <td>낮잠자기</td>\n",
       "    </tr>\n",
       "    <tr>\n",
       "      <th>1</th>\n",
       "      <td>M</td>\n",
       "      <td>20대</td>\n",
       "      <td>대전광역시</td>\n",
       "      <td>300만원 미만</td>\n",
       "      <td>마음의 안정-휴식을 위해</td>\n",
       "      <td>스트레스 해소를 위해</td>\n",
       "      <td>2</td>\n",
       "      <td>10</td>\n",
       "      <td>10</td>\n",
       "      <td>60</td>\n",
       "      <td>10</td>\n",
       "      <td>20</td>\n",
       "      <td>0</td>\n",
       "      <td>헬스-보디빌딩 직접 하기</td>\n",
       "      <td>걷기-속보-조깅 직접 하기</td>\n",
       "      <td>독서</td>\n",
       "      <td>게임</td>\n",
       "      <td>친구-이성친구 만남</td>\n",
       "    </tr>\n",
       "    <tr>\n",
       "      <th>2</th>\n",
       "      <td>M</td>\n",
       "      <td>20대</td>\n",
       "      <td>세종특별자치시</td>\n",
       "      <td>300만원 미만</td>\n",
       "      <td>마음의 안정-휴식을 위해</td>\n",
       "      <td>스트레스 해소를 위해</td>\n",
       "      <td>3</td>\n",
       "      <td>7</td>\n",
       "      <td>50</td>\n",
       "      <td>30</td>\n",
       "      <td>20</td>\n",
       "      <td>0</td>\n",
       "      <td>0</td>\n",
       "      <td>산책-걷기</td>\n",
       "      <td>없음</td>\n",
       "      <td>없음</td>\n",
       "      <td>없음</td>\n",
       "      <td>없음</td>\n",
       "    </tr>\n",
       "  </tbody>\n",
       "</table>\n",
       "</div>"
      ],
      "text/plain": [
       "  성별구분코드 연령대구분명 답변자거주지역명   가구소득정도명   레저시간사용목적1순위값   레저시간사용목적2순위값  평일일평균레저시간값  \\\n",
       "0      M    20대    서울특별시  700만원 이상    스트레스 해소를 위해  남는 시간을 보내기 위해           2   \n",
       "1      M    20대    대전광역시  300만원 미만  마음의 안정-휴식을 위해    스트레스 해소를 위해           2   \n",
       "2      M    20대  세종특별자치시  300만원 미만  마음의 안정-휴식을 위해    스트레스 해소를 위해           3   \n",
       "\n",
       "   주말일평균레저시간값  레저시간휴식오락사용비율  레저시간취미사용비율  레저시간본인계발사용비율  레저시간대인관계교제사용비율  \\\n",
       "0          10            50          20             5              25   \n",
       "1          10            10          60            10              20   \n",
       "2           7            50          30            20               0   \n",
       "\n",
       "   레저시간기타사용비율     관심레저활동1순위값        관심레저활동2순위값   관심레저활동3순위값  관심레저활동4순위값  \\\n",
       "0           0             게임  볼링_ 당구-포켓볼 직접 하기  구기스포츠 직접 하기  친구-이성친구 만남   \n",
       "1           0  헬스-보디빌딩 직접 하기    걷기-속보-조깅 직접 하기           독서          게임   \n",
       "2           0          산책-걷기                없음           없음          없음   \n",
       "\n",
       "   관심레저활동5순위값  \n",
       "0        낮잠자기  \n",
       "1  친구-이성친구 만남  \n",
       "2          없음  "
      ]
     },
     "execution_count": 3,
     "metadata": {},
     "output_type": "execute_result"
    }
   ],
   "source": [
    "df = df.drop(columns=['응답자ID','조사시작일자'])\n",
    "df.head(3)"
   ]
  },
  {
   "cell_type": "markdown",
   "id": "190f3696-5b21-4865-a674-94d7ba26b2c5",
   "metadata": {},
   "source": [
    "- 1. 라이브러리 및 데이터 확인\n",
    "  2. 데이터 탐색(EDA)\n",
    "  3. 데이터 전처리 및 분리"
   ]
  },
  {
   "cell_type": "markdown",
   "id": "6e572316-33cb-43b5-84d1-94d3bfb4fb4a",
   "metadata": {},
   "source": [
    "### 데이터 탐색(EDA)"
   ]
  },
  {
   "cell_type": "code",
   "execution_count": 4,
   "id": "a879bd60-0a8e-4ea4-b102-b0296eedba7d",
   "metadata": {},
   "outputs": [
    {
     "data": {
      "text/plain": [
       "(525, 18)"
      ]
     },
     "execution_count": 4,
     "metadata": {},
     "output_type": "execute_result"
    }
   ],
   "source": [
    "df.shape"
   ]
  },
  {
   "cell_type": "code",
   "execution_count": 5,
   "id": "c719add6-5bc9-44fb-ba53-d8c0f98303ac",
   "metadata": {},
   "outputs": [
    {
     "name": "stdout",
     "output_type": "stream",
     "text": [
      "<class 'pandas.core.frame.DataFrame'>\n",
      "RangeIndex: 525 entries, 0 to 524\n",
      "Data columns (total 18 columns):\n",
      " #   Column          Non-Null Count  Dtype \n",
      "---  ------          --------------  ----- \n",
      " 0   성별구분코드          525 non-null    object\n",
      " 1   연령대구분명          525 non-null    object\n",
      " 2   답변자거주지역명        525 non-null    object\n",
      " 3   가구소득정도명         525 non-null    object\n",
      " 4   레저시간사용목적1순위값    525 non-null    object\n",
      " 5   레저시간사용목적2순위값    525 non-null    object\n",
      " 6   평일일평균레저시간값      525 non-null    int64 \n",
      " 7   주말일평균레저시간값      525 non-null    int64 \n",
      " 8   레저시간휴식오락사용비율    525 non-null    int64 \n",
      " 9   레저시간취미사용비율      525 non-null    int64 \n",
      " 10  레저시간본인계발사용비율    525 non-null    int64 \n",
      " 11  레저시간대인관계교제사용비율  525 non-null    int64 \n",
      " 12  레저시간기타사용비율      525 non-null    int64 \n",
      " 13  관심레저활동1순위값      525 non-null    object\n",
      " 14  관심레저활동2순위값      525 non-null    object\n",
      " 15  관심레저활동3순위값      525 non-null    object\n",
      " 16  관심레저활동4순위값      525 non-null    object\n",
      " 17  관심레저활동5순위값      525 non-null    object\n",
      "dtypes: int64(7), object(11)\n",
      "memory usage: 74.0+ KB\n"
     ]
    }
   ],
   "source": [
    "df.info()"
   ]
  },
  {
   "cell_type": "code",
   "execution_count": 6,
   "id": "8c8758f7-0a17-41d4-bc0a-5570744e2359",
   "metadata": {},
   "outputs": [
    {
     "data": {
      "text/plain": [
       "성별구분코드            0\n",
       "연령대구분명            0\n",
       "답변자거주지역명          0\n",
       "가구소득정도명           0\n",
       "레저시간사용목적1순위값      0\n",
       "레저시간사용목적2순위값      0\n",
       "평일일평균레저시간값        0\n",
       "주말일평균레저시간값        0\n",
       "레저시간휴식오락사용비율      0\n",
       "레저시간취미사용비율        0\n",
       "레저시간본인계발사용비율      0\n",
       "레저시간대인관계교제사용비율    0\n",
       "레저시간기타사용비율        0\n",
       "관심레저활동1순위값        0\n",
       "관심레저활동2순위값        0\n",
       "관심레저활동3순위값        0\n",
       "관심레저활동4순위값        0\n",
       "관심레저활동5순위값        0\n",
       "dtype: int64"
      ]
     },
     "execution_count": 6,
     "metadata": {},
     "output_type": "execute_result"
    }
   ],
   "source": [
    "df.isnull().sum()"
   ]
  },
  {
   "cell_type": "code",
   "execution_count": 7,
   "id": "870ad0f2-3cd8-453c-97fa-abd396f14991",
   "metadata": {},
   "outputs": [
    {
     "data": {
      "text/plain": [
       "연령대구분명\n",
       "50대    123\n",
       "40대    112\n",
       "60대    109\n",
       "30대     94\n",
       "20대     87\n",
       "Name: count, dtype: int64"
      ]
     },
     "execution_count": 7,
     "metadata": {},
     "output_type": "execute_result"
    }
   ],
   "source": [
    "df.value_counts('연령대구분명')"
   ]
  },
  {
   "cell_type": "code",
   "execution_count": 8,
   "id": "9df42a99-4211-4ac3-849d-244183385821",
   "metadata": {},
   "outputs": [
    {
     "data": {
      "text/plain": [
       "0      20대\n",
       "1      20대\n",
       "2      20대\n",
       "3      30대\n",
       "4      20대\n",
       "      ... \n",
       "520    30대\n",
       "521    20대\n",
       "522    60대\n",
       "523    40대\n",
       "524    20대\n",
       "Name: 연령대구분명, Length: 525, dtype: object"
      ]
     },
     "execution_count": 8,
     "metadata": {},
     "output_type": "execute_result"
    }
   ],
   "source": [
    "df['연령대구분명']"
   ]
  },
  {
   "cell_type": "code",
   "execution_count": 9,
   "id": "8b919480-e54b-460b-931f-fba2cb064c31",
   "metadata": {},
   "outputs": [
    {
     "data": {
      "text/html": [
       "<div>\n",
       "<style scoped>\n",
       "    .dataframe tbody tr th:only-of-type {\n",
       "        vertical-align: middle;\n",
       "    }\n",
       "\n",
       "    .dataframe tbody tr th {\n",
       "        vertical-align: top;\n",
       "    }\n",
       "\n",
       "    .dataframe thead th {\n",
       "        text-align: right;\n",
       "    }\n",
       "</style>\n",
       "<table border=\"1\" class=\"dataframe\">\n",
       "  <thead>\n",
       "    <tr style=\"text-align: right;\">\n",
       "      <th></th>\n",
       "      <th>성별구분코드</th>\n",
       "      <th>연령대구분명</th>\n",
       "      <th>답변자거주지역명</th>\n",
       "      <th>가구소득정도명</th>\n",
       "      <th>레저시간사용목적1순위값</th>\n",
       "      <th>레저시간사용목적2순위값</th>\n",
       "      <th>평일일평균레저시간값</th>\n",
       "      <th>주말일평균레저시간값</th>\n",
       "      <th>레저시간휴식오락사용비율</th>\n",
       "      <th>레저시간취미사용비율</th>\n",
       "      <th>레저시간본인계발사용비율</th>\n",
       "      <th>레저시간대인관계교제사용비율</th>\n",
       "      <th>레저시간기타사용비율</th>\n",
       "      <th>관심레저활동1순위값</th>\n",
       "      <th>관심레저활동2순위값</th>\n",
       "      <th>관심레저활동3순위값</th>\n",
       "      <th>관심레저활동4순위값</th>\n",
       "      <th>관심레저활동5순위값</th>\n",
       "    </tr>\n",
       "  </thead>\n",
       "  <tbody>\n",
       "    <tr>\n",
       "      <th>0</th>\n",
       "      <td>M</td>\n",
       "      <td>20대</td>\n",
       "      <td>서울특별시</td>\n",
       "      <td>700만원 이상</td>\n",
       "      <td>스트레스 해소를 위해</td>\n",
       "      <td>남는 시간을 보내기 위해</td>\n",
       "      <td>2</td>\n",
       "      <td>10</td>\n",
       "      <td>50</td>\n",
       "      <td>20</td>\n",
       "      <td>5</td>\n",
       "      <td>25</td>\n",
       "      <td>0</td>\n",
       "      <td>게임</td>\n",
       "      <td>볼링_ 당구-포켓볼 직접 하기</td>\n",
       "      <td>구기스포츠 직접 하기</td>\n",
       "      <td>친구-이성친구 만남</td>\n",
       "      <td>낮잠자기</td>\n",
       "    </tr>\n",
       "    <tr>\n",
       "      <th>1</th>\n",
       "      <td>M</td>\n",
       "      <td>20대</td>\n",
       "      <td>대전광역시</td>\n",
       "      <td>300만원 미만</td>\n",
       "      <td>마음의 안정-휴식을 위해</td>\n",
       "      <td>스트레스 해소를 위해</td>\n",
       "      <td>2</td>\n",
       "      <td>10</td>\n",
       "      <td>10</td>\n",
       "      <td>60</td>\n",
       "      <td>10</td>\n",
       "      <td>20</td>\n",
       "      <td>0</td>\n",
       "      <td>헬스-보디빌딩 직접 하기</td>\n",
       "      <td>걷기-속보-조깅 직접 하기</td>\n",
       "      <td>독서</td>\n",
       "      <td>게임</td>\n",
       "      <td>친구-이성친구 만남</td>\n",
       "    </tr>\n",
       "    <tr>\n",
       "      <th>2</th>\n",
       "      <td>M</td>\n",
       "      <td>20대</td>\n",
       "      <td>세종특별자치시</td>\n",
       "      <td>300만원 미만</td>\n",
       "      <td>마음의 안정-휴식을 위해</td>\n",
       "      <td>스트레스 해소를 위해</td>\n",
       "      <td>3</td>\n",
       "      <td>7</td>\n",
       "      <td>50</td>\n",
       "      <td>30</td>\n",
       "      <td>20</td>\n",
       "      <td>0</td>\n",
       "      <td>0</td>\n",
       "      <td>산책-걷기</td>\n",
       "      <td>없음</td>\n",
       "      <td>없음</td>\n",
       "      <td>없음</td>\n",
       "      <td>없음</td>\n",
       "    </tr>\n",
       "  </tbody>\n",
       "</table>\n",
       "</div>"
      ],
      "text/plain": [
       "  성별구분코드 연령대구분명 답변자거주지역명   가구소득정도명   레저시간사용목적1순위값   레저시간사용목적2순위값  평일일평균레저시간값  \\\n",
       "0      M    20대    서울특별시  700만원 이상    스트레스 해소를 위해  남는 시간을 보내기 위해           2   \n",
       "1      M    20대    대전광역시  300만원 미만  마음의 안정-휴식을 위해    스트레스 해소를 위해           2   \n",
       "2      M    20대  세종특별자치시  300만원 미만  마음의 안정-휴식을 위해    스트레스 해소를 위해           3   \n",
       "\n",
       "   주말일평균레저시간값  레저시간휴식오락사용비율  레저시간취미사용비율  레저시간본인계발사용비율  레저시간대인관계교제사용비율  \\\n",
       "0          10            50          20             5              25   \n",
       "1          10            10          60            10              20   \n",
       "2           7            50          30            20               0   \n",
       "\n",
       "   레저시간기타사용비율     관심레저활동1순위값        관심레저활동2순위값   관심레저활동3순위값  관심레저활동4순위값  \\\n",
       "0           0             게임  볼링_ 당구-포켓볼 직접 하기  구기스포츠 직접 하기  친구-이성친구 만남   \n",
       "1           0  헬스-보디빌딩 직접 하기    걷기-속보-조깅 직접 하기           독서          게임   \n",
       "2           0          산책-걷기                없음           없음          없음   \n",
       "\n",
       "   관심레저활동5순위값  \n",
       "0        낮잠자기  \n",
       "1  친구-이성친구 만남  \n",
       "2          없음  "
      ]
     },
     "execution_count": 9,
     "metadata": {},
     "output_type": "execute_result"
    }
   ],
   "source": [
    "# 우리 목표인 2030의 응답만 추출\n",
    "cond20s = (df['연령대구분명']=='20대')\n",
    "cond30s = (df['연령대구분명']=='30대')\n",
    "df = df[cond20s | cond30s]\n",
    "df.head(3)"
   ]
  },
  {
   "cell_type": "code",
   "execution_count": 10,
   "id": "5775029f-ce60-4579-bf92-7780894460a5",
   "metadata": {},
   "outputs": [
    {
     "data": {
      "text/plain": [
       "가구소득정도명\n",
       "300만원 미만         47\n",
       "300이상500만원 미만    41\n",
       "500이상700만원 미만    32\n",
       "700만원 이상         32\n",
       "무응답              29\n",
       "Name: count, dtype: int64"
      ]
     },
     "execution_count": 10,
     "metadata": {},
     "output_type": "execute_result"
    }
   ],
   "source": [
    "df.value_counts('가구소득정도명')"
   ]
  },
  {
   "cell_type": "code",
   "execution_count": 11,
   "id": "950e0da5-5029-4682-96c5-2852ded00cc6",
   "metadata": {},
   "outputs": [
    {
     "data": {
      "text/html": [
       "<div>\n",
       "<style scoped>\n",
       "    .dataframe tbody tr th:only-of-type {\n",
       "        vertical-align: middle;\n",
       "    }\n",
       "\n",
       "    .dataframe tbody tr th {\n",
       "        vertical-align: top;\n",
       "    }\n",
       "\n",
       "    .dataframe thead th {\n",
       "        text-align: right;\n",
       "    }\n",
       "</style>\n",
       "<table border=\"1\" class=\"dataframe\">\n",
       "  <thead>\n",
       "    <tr style=\"text-align: right;\">\n",
       "      <th></th>\n",
       "      <th>성별구분코드</th>\n",
       "      <th>연령대구분명</th>\n",
       "      <th>답변자거주지역명</th>\n",
       "      <th>가구소득정도명</th>\n",
       "      <th>레저시간사용목적1순위값</th>\n",
       "      <th>레저시간사용목적2순위값</th>\n",
       "      <th>평일일평균레저시간값</th>\n",
       "      <th>주말일평균레저시간값</th>\n",
       "      <th>레저시간휴식오락사용비율</th>\n",
       "      <th>레저시간취미사용비율</th>\n",
       "      <th>레저시간본인계발사용비율</th>\n",
       "      <th>레저시간대인관계교제사용비율</th>\n",
       "      <th>레저시간기타사용비율</th>\n",
       "      <th>관심레저활동1순위값</th>\n",
       "      <th>관심레저활동2순위값</th>\n",
       "      <th>관심레저활동3순위값</th>\n",
       "      <th>관심레저활동4순위값</th>\n",
       "      <th>관심레저활동5순위값</th>\n",
       "    </tr>\n",
       "  </thead>\n",
       "  <tbody>\n",
       "    <tr>\n",
       "      <th>0</th>\n",
       "      <td>M</td>\n",
       "      <td>20대</td>\n",
       "      <td>대전광역시</td>\n",
       "      <td>300만원 미만</td>\n",
       "      <td>마음의 안정-휴식을 위해</td>\n",
       "      <td>스트레스 해소를 위해</td>\n",
       "      <td>2</td>\n",
       "      <td>10</td>\n",
       "      <td>10</td>\n",
       "      <td>60</td>\n",
       "      <td>10</td>\n",
       "      <td>20</td>\n",
       "      <td>0</td>\n",
       "      <td>헬스-보디빌딩 직접 하기</td>\n",
       "      <td>걷기-속보-조깅 직접 하기</td>\n",
       "      <td>독서</td>\n",
       "      <td>게임</td>\n",
       "      <td>친구-이성친구 만남</td>\n",
       "    </tr>\n",
       "    <tr>\n",
       "      <th>1</th>\n",
       "      <td>M</td>\n",
       "      <td>20대</td>\n",
       "      <td>세종특별자치시</td>\n",
       "      <td>300만원 미만</td>\n",
       "      <td>마음의 안정-휴식을 위해</td>\n",
       "      <td>스트레스 해소를 위해</td>\n",
       "      <td>3</td>\n",
       "      <td>7</td>\n",
       "      <td>50</td>\n",
       "      <td>30</td>\n",
       "      <td>20</td>\n",
       "      <td>0</td>\n",
       "      <td>0</td>\n",
       "      <td>산책-걷기</td>\n",
       "      <td>없음</td>\n",
       "      <td>없음</td>\n",
       "      <td>없음</td>\n",
       "      <td>없음</td>\n",
       "    </tr>\n",
       "    <tr>\n",
       "      <th>2</th>\n",
       "      <td>F</td>\n",
       "      <td>30대</td>\n",
       "      <td>서울특별시</td>\n",
       "      <td>300만원 미만</td>\n",
       "      <td>자기 계발을 위해</td>\n",
       "      <td>건강 관리를 위해</td>\n",
       "      <td>3</td>\n",
       "      <td>10</td>\n",
       "      <td>10</td>\n",
       "      <td>40</td>\n",
       "      <td>30</td>\n",
       "      <td>20</td>\n",
       "      <td>0</td>\n",
       "      <td>헬스-보디빌딩 직접 하기</td>\n",
       "      <td>어학-기술-자격증 취득</td>\n",
       "      <td>영상 컨텐츠 시청</td>\n",
       "      <td>등산 직접 하기</td>\n",
       "      <td>친구-이성친구 만남</td>\n",
       "    </tr>\n",
       "  </tbody>\n",
       "</table>\n",
       "</div>"
      ],
      "text/plain": [
       "  성별구분코드 연령대구분명 답변자거주지역명   가구소득정도명   레저시간사용목적1순위값 레저시간사용목적2순위값  평일일평균레저시간값  \\\n",
       "0      M    20대    대전광역시  300만원 미만  마음의 안정-휴식을 위해  스트레스 해소를 위해           2   \n",
       "1      M    20대  세종특별자치시  300만원 미만  마음의 안정-휴식을 위해  스트레스 해소를 위해           3   \n",
       "2      F    30대    서울특별시  300만원 미만      자기 계발을 위해    건강 관리를 위해           3   \n",
       "\n",
       "   주말일평균레저시간값  레저시간휴식오락사용비율  레저시간취미사용비율  레저시간본인계발사용비율  레저시간대인관계교제사용비율  \\\n",
       "0          10            10          60            10              20   \n",
       "1           7            50          30            20               0   \n",
       "2          10            10          40            30              20   \n",
       "\n",
       "   레저시간기타사용비율     관심레저활동1순위값      관심레저활동2순위값 관심레저활동3순위값 관심레저활동4순위값  관심레저활동5순위값  \n",
       "0           0  헬스-보디빌딩 직접 하기  걷기-속보-조깅 직접 하기         독서         게임  친구-이성친구 만남  \n",
       "1           0          산책-걷기              없음         없음         없음          없음  \n",
       "2           0  헬스-보디빌딩 직접 하기    어학-기술-자격증 취득  영상 컨텐츠 시청   등산 직접 하기  친구-이성친구 만남  "
      ]
     },
     "execution_count": 11,
     "metadata": {},
     "output_type": "execute_result"
    }
   ],
   "source": [
    "# 우리 서비스의 최종 목표는 은둔형 외톨이들이 자신감을 찾아 일반 직업활동을 하는 것으로 둔다.\n",
    "# 그렇기 때문에, 현재 소득 300만원 미만의 2030 청년들의 여가활동/문화활동/취미활동이,\n",
    "# 고립 생활에서 갓 벗어나 평범한 직업활동을 하는 사회 청년이 된 은둔형 외톨이들이 하게 될, 여가활동/문화활동/취미활동이 될 것이다.\n",
    "condmoney = (df['가구소득정도명']=='300만원 미만')\n",
    "df = df[condmoney]\n",
    "df = df.reset_index(drop=True)\n",
    "df.head(3)"
   ]
  },
  {
   "cell_type": "code",
   "execution_count": 78,
   "id": "e584ae7c-f693-4dde-a98f-e35d990cd74d",
   "metadata": {},
   "outputs": [
    {
     "data": {
      "text/plain": [
       "(47, 18)"
      ]
     },
     "execution_count": 78,
     "metadata": {},
     "output_type": "execute_result"
    }
   ],
   "source": [
    "df.shape"
   ]
  },
  {
   "cell_type": "code",
   "execution_count": 79,
   "id": "91357545-09b0-4db3-b9f2-535cf4c4054d",
   "metadata": {},
   "outputs": [
    {
     "data": {
      "text/plain": [
       "연령대구분명\n",
       "20대    29\n",
       "30대    18\n",
       "Name: count, dtype: int64"
      ]
     },
     "execution_count": 79,
     "metadata": {},
     "output_type": "execute_result"
    }
   ],
   "source": [
    "df['연령대구분명'].value_counts()"
   ]
  },
  {
   "cell_type": "code",
   "execution_count": 80,
   "id": "6d7ff008-8ae8-4ee6-8c45-08c886a82ff2",
   "metadata": {},
   "outputs": [
    {
     "data": {
      "text/plain": [
       "가구소득정도명\n",
       "300만원 미만    47\n",
       "Name: count, dtype: int64"
      ]
     },
     "execution_count": 80,
     "metadata": {},
     "output_type": "execute_result"
    }
   ],
   "source": [
    "df['가구소득정도명'].value_counts()"
   ]
  },
  {
   "cell_type": "markdown",
   "id": "57c28afa-00aa-4244-ab10-4f25993582af",
   "metadata": {},
   "source": [
    "# 시각화"
   ]
  },
  {
   "cell_type": "markdown",
   "id": "47b70217-12a1-4b8e-b03f-55699e32a48a",
   "metadata": {},
   "source": [
    "## 레저시간사용목적 에 대한 분석"
   ]
  },
  {
   "cell_type": "code",
   "execution_count": 12,
   "id": "1b3da59d-667b-4398-b0d5-ae97d8c7a4d7",
   "metadata": {},
   "outputs": [
    {
     "data": {
      "text/plain": [
       "레저시간사용목적1순위값\n",
       "자기만족-즐거움을 위해           13\n",
       "스트레스 해소를 위해            11\n",
       "마음의 안정-휴식을 위해           8\n",
       "가족-지인 등과 시간을 보내기 위해     5\n",
       "남는 시간을 보내기 위해           5\n",
       "대인 관계-교제를 위해            3\n",
       "자기 계발을 위해               1\n",
       "건강 관리를 위해               1\n",
       "Name: count, dtype: int64"
      ]
     },
     "execution_count": 12,
     "metadata": {},
     "output_type": "execute_result"
    }
   ],
   "source": [
    "df['레저시간사용목적1순위값'].value_counts()"
   ]
  },
  {
   "cell_type": "code",
   "execution_count": 13,
   "id": "88fa626f-f068-41ef-88ca-bd5742764c90",
   "metadata": {},
   "outputs": [
    {
     "data": {
      "image/png": "[encoded data removed]",
      "text/plain": [
       "<Figure size 1000x600 with 2 Axes>"
      ]
     },
     "metadata": {},
     "output_type": "display_data"
    }
   ],
   "source": [
    "import matplotlib.pyplot as plt\n",
    "from matplotlib import font_manager, rc\n",
    "from matplotlib.patches import Patch\n",
    "\n",
    "# 한글 폰트 설정\n",
    "font_path = \"C:/Windows/Fonts/malgun.ttf\"  # 한글 폰트 경로\n",
    "font_name = font_manager.FontProperties(fname=font_path).get_name()\n",
    "rc('font', family=font_name)\n",
    "\n",
    "# 시각화를 위한 데이터 준비\n",
    "labels = df['레저시간사용목적1순위값'].value_counts().index\n",
    "sizes = df['레저시간사용목적1순위값'].value_counts().values\n",
    "\n",
    "# 색상 리스트 생성\n",
    "colors = ['lightskyblue', 'lightcoral', 'lightgreen', 'lightblue', 'lightcyan', 'lightgrey', 'lightpink', 'lightyellow']\n",
    "# 파이차트 그리기\n",
    "fig, axs = plt.subplots(1, 2, figsize=(10, 6))\n",
    "\n",
    "# 파이차트 그리기\n",
    "patches, _, _ = axs[0].pie(sizes, startangle=140, autopct='%1.1f%%', colors=colors)\n",
    "\n",
    "# 범례 색상 지정\n",
    "legend_patches = [Patch(color=color) for color in colors]\n",
    "\n",
    "# 범례 추가\n",
    "axs[1].axis('off')\n",
    "axs[1].legend(legend_patches, labels, loc=\"center left\", title=\"레저시간사용목적1순위값\", title_fontsize='large')\n",
    "\n",
    "plt.show()"
   ]
  },
  {
   "cell_type": "code",
   "execution_count": 14,
   "id": "47db391e-a47f-4c13-8ac1-10c60d48405b",
   "metadata": {},
   "outputs": [
    {
     "data": {
      "text/plain": [
       "레저시간사용목적2순위값\n",
       "가족-지인 등과 시간을 보내기 위해    13\n",
       "마음의 안정-휴식을 위해           8\n",
       "스트레스 해소를 위해             7\n",
       "자기만족-즐거움을 위해            6\n",
       "자기 계발을 위해               5\n",
       "없음                      4\n",
       "건강 관리를 위해               3\n",
       "남는 시간을 보내기 위해           1\n",
       "Name: count, dtype: int64"
      ]
     },
     "execution_count": 14,
     "metadata": {},
     "output_type": "execute_result"
    }
   ],
   "source": [
    "df['레저시간사용목적2순위값'].value_counts()"
   ]
  },
  {
   "cell_type": "code",
   "execution_count": 15,
   "id": "369c6005-4794-4ebc-bf27-d0755360548c",
   "metadata": {},
   "outputs": [
    {
     "data": {
      "image/png": "[encoded data removed]",
      "text/plain": [
       "<Figure size 1000x600 with 2 Axes>"
      ]
     },
     "metadata": {},
     "output_type": "display_data"
    }
   ],
   "source": [
    "import matplotlib.pyplot as plt\n",
    "from matplotlib import font_manager, rc\n",
    "from matplotlib.patches import Patch\n",
    "\n",
    "# 한글 폰트 설정\n",
    "font_path = \"C:/Windows/Fonts/malgun.ttf\"  # 한글 폰트 경로\n",
    "font_name = font_manager.FontProperties(fname=font_path).get_name()\n",
    "rc('font', family=font_name)\n",
    "\n",
    "# 시각화를 위한 데이터 준비\n",
    "labels = df['레저시간사용목적2순위값'].value_counts().index\n",
    "sizes = df['레저시간사용목적2순위값'].value_counts().values\n",
    "\n",
    "# 색상 리스트 생성\n",
    "colors = ['lightblue', 'lightgreen', 'lightcoral', 'lightskyblue', 'lightpink', 'lightgrey', 'lightyellow', 'lightcyan']\n",
    "\n",
    "# 파이차트 그리기\n",
    "fig, axs = plt.subplots(1, 2, figsize=(10, 6))\n",
    "\n",
    "# 파이차트 그리기\n",
    "patches, _, _ = axs[0].pie(sizes, startangle=140, autopct='%1.1f%%', colors=colors)\n",
    "\n",
    "# 범례 색상 지정\n",
    "legend_patches = [Patch(color=color) for color in colors]\n",
    "\n",
    "# 범례 추가\n",
    "axs[1].axis('off')\n",
    "axs[1].legend(legend_patches, labels, loc=\"center left\", title=\"레저시간사용목적2순위값\", title_fontsize='large')\n",
    "\n",
    "plt.show()"
   ]
  },
  {
   "cell_type": "markdown",
   "id": "c088103b-1807-4da1-9860-00a699917f5a",
   "metadata": {},
   "source": [
    "### 레저시간 사용목적 1&2순위 데이터 간의 관계를 이해하기 위해서 교차 테이블(Cross-tabulation)을 사용하여 두 변수 간의 '빈도'를 비교. \n",
    "### 이를 통해 각 투표가 얼마나 많이 발생하는지, 얼마나 자주 함께 발생하는지 등을 확인가능.\n",
    "### 위 코드를 실행하면 각 레저시간사용목적값의 조합에 대한 빈도를 히트맵으로 시각화. 이를 통해 각 값들 간의 연관성을 파악."
   ]
  },
  {
   "cell_type": "code",
   "execution_count": 16,
   "id": "25e9c61d-ca6e-4973-a872-88cab72e287c",
   "metadata": {},
   "outputs": [
    {
     "data": {
      "image/png": "[encoded data removed]",
      "text/plain": [
       "<Figure size 1000x600 with 2 Axes>"
      ]
     },
     "metadata": {},
     "output_type": "display_data"
    }
   ],
   "source": [
    "import pandas as pd\n",
    "import seaborn as sns\n",
    "import matplotlib.pyplot as plt\n",
    "\n",
    "# 레저시간사용목적값에 대한 교차테이블 생성\n",
    "cross_tab = pd.crosstab(df['레저시간사용목적1순위값'], df['레저시간사용목적2순위값'])\n",
    "\n",
    "# 히트맵으로 교차테이블 시각화\n",
    "plt.figure(figsize=(10, 6))\n",
    "sns.heatmap(cross_tab, annot=True, cmap=\"YlGnBu\")\n",
    "plt.title('레저시간사용목적 1순위와 2순위 교차테이블')\n",
    "plt.xlabel('레저시간사용목적2순위값')\n",
    "plt.ylabel('레저시간사용목적1순위값')\n",
    "plt.show()"
   ]
  },
  {
   "cell_type": "markdown",
   "id": "256749f7-aec8-4624-a239-651c47615125",
   "metadata": {
    "jp-MarkdownHeadingCollapsed": true
   },
   "source": [
    "### 레저시간 사용목적 1,2순위 결과 :\n",
    "- 1순위 가장 큰 목적은 레저시간을 자기만족-즐거움을 위해 사용하고,\n",
    "- 1순위 두번째 큰 목적은 스트레스 해소를 위해 사용한다.\n",
    "\n",
    "- 2순위 가장 큰 목적은 가족-지인 등과 시간을 보내기 위해 사용하고,\n",
    "- 2순위 두번째 큰 목적은 마음의 안정-휴식을 위해 사용한다."
   ]
  },
  {
   "cell_type": "markdown",
   "id": "c64e566c-e7aa-4e7f-a60a-dc6a3087e250",
   "metadata": {},
   "source": [
    "### ※ 2030청년들은 여가시간에, 자신들의 즐거움을 채우고 자신이 흥미있는 것을 하며 보낸다. 또한 스트레스를 해소하기 위해서도 사용한다.\n",
    "### 그것들이 이루어진 후, 가족-지인 등과 시간을 보내거나 마음의 안정-휴식을 찾으며 여가를 보낸다."
   ]
  },
  {
   "cell_type": "code",
   "execution_count": 17,
   "id": "5b8f468b-c62d-447f-84a3-b59648ac13e9",
   "metadata": {},
   "outputs": [
    {
     "data": {
      "text/html": [
       "<div>\n",
       "<style scoped>\n",
       "    .dataframe tbody tr th:only-of-type {\n",
       "        vertical-align: middle;\n",
       "    }\n",
       "\n",
       "    .dataframe tbody tr th {\n",
       "        vertical-align: top;\n",
       "    }\n",
       "\n",
       "    .dataframe thead th {\n",
       "        text-align: right;\n",
       "    }\n",
       "</style>\n",
       "<table border=\"1\" class=\"dataframe\">\n",
       "  <thead>\n",
       "    <tr style=\"text-align: right;\">\n",
       "      <th></th>\n",
       "      <th>성별구분코드</th>\n",
       "      <th>연령대구분명</th>\n",
       "      <th>답변자거주지역명</th>\n",
       "      <th>가구소득정도명</th>\n",
       "      <th>레저시간사용목적1순위값</th>\n",
       "      <th>레저시간사용목적2순위값</th>\n",
       "      <th>평일일평균레저시간값</th>\n",
       "      <th>주말일평균레저시간값</th>\n",
       "      <th>레저시간휴식오락사용비율</th>\n",
       "      <th>레저시간취미사용비율</th>\n",
       "      <th>레저시간본인계발사용비율</th>\n",
       "      <th>레저시간대인관계교제사용비율</th>\n",
       "      <th>레저시간기타사용비율</th>\n",
       "      <th>관심레저활동1순위값</th>\n",
       "      <th>관심레저활동2순위값</th>\n",
       "      <th>관심레저활동3순위값</th>\n",
       "      <th>관심레저활동4순위값</th>\n",
       "      <th>관심레저활동5순위값</th>\n",
       "    </tr>\n",
       "  </thead>\n",
       "  <tbody>\n",
       "    <tr>\n",
       "      <th>0</th>\n",
       "      <td>M</td>\n",
       "      <td>20대</td>\n",
       "      <td>대전광역시</td>\n",
       "      <td>300만원 미만</td>\n",
       "      <td>마음의 안정-휴식을 위해</td>\n",
       "      <td>스트레스 해소를 위해</td>\n",
       "      <td>2</td>\n",
       "      <td>10</td>\n",
       "      <td>10</td>\n",
       "      <td>60</td>\n",
       "      <td>10</td>\n",
       "      <td>20</td>\n",
       "      <td>0</td>\n",
       "      <td>헬스-보디빌딩 직접 하기</td>\n",
       "      <td>걷기-속보-조깅 직접 하기</td>\n",
       "      <td>독서</td>\n",
       "      <td>게임</td>\n",
       "      <td>친구-이성친구 만남</td>\n",
       "    </tr>\n",
       "    <tr>\n",
       "      <th>1</th>\n",
       "      <td>M</td>\n",
       "      <td>20대</td>\n",
       "      <td>세종특별자치시</td>\n",
       "      <td>300만원 미만</td>\n",
       "      <td>마음의 안정-휴식을 위해</td>\n",
       "      <td>스트레스 해소를 위해</td>\n",
       "      <td>3</td>\n",
       "      <td>7</td>\n",
       "      <td>50</td>\n",
       "      <td>30</td>\n",
       "      <td>20</td>\n",
       "      <td>0</td>\n",
       "      <td>0</td>\n",
       "      <td>산책-걷기</td>\n",
       "      <td>없음</td>\n",
       "      <td>없음</td>\n",
       "      <td>없음</td>\n",
       "      <td>없음</td>\n",
       "    </tr>\n",
       "    <tr>\n",
       "      <th>2</th>\n",
       "      <td>F</td>\n",
       "      <td>30대</td>\n",
       "      <td>서울특별시</td>\n",
       "      <td>300만원 미만</td>\n",
       "      <td>자기 계발을 위해</td>\n",
       "      <td>건강 관리를 위해</td>\n",
       "      <td>3</td>\n",
       "      <td>10</td>\n",
       "      <td>10</td>\n",
       "      <td>40</td>\n",
       "      <td>30</td>\n",
       "      <td>20</td>\n",
       "      <td>0</td>\n",
       "      <td>헬스-보디빌딩 직접 하기</td>\n",
       "      <td>어학-기술-자격증 취득</td>\n",
       "      <td>영상 컨텐츠 시청</td>\n",
       "      <td>등산 직접 하기</td>\n",
       "      <td>친구-이성친구 만남</td>\n",
       "    </tr>\n",
       "  </tbody>\n",
       "</table>\n",
       "</div>"
      ],
      "text/plain": [
       "  성별구분코드 연령대구분명 답변자거주지역명   가구소득정도명   레저시간사용목적1순위값 레저시간사용목적2순위값  평일일평균레저시간값  \\\n",
       "0      M    20대    대전광역시  300만원 미만  마음의 안정-휴식을 위해  스트레스 해소를 위해           2   \n",
       "1      M    20대  세종특별자치시  300만원 미만  마음의 안정-휴식을 위해  스트레스 해소를 위해           3   \n",
       "2      F    30대    서울특별시  300만원 미만      자기 계발을 위해    건강 관리를 위해           3   \n",
       "\n",
       "   주말일평균레저시간값  레저시간휴식오락사용비율  레저시간취미사용비율  레저시간본인계발사용비율  레저시간대인관계교제사용비율  \\\n",
       "0          10            10          60            10              20   \n",
       "1           7            50          30            20               0   \n",
       "2          10            10          40            30              20   \n",
       "\n",
       "   레저시간기타사용비율     관심레저활동1순위값      관심레저활동2순위값 관심레저활동3순위값 관심레저활동4순위값  관심레저활동5순위값  \n",
       "0           0  헬스-보디빌딩 직접 하기  걷기-속보-조깅 직접 하기         독서         게임  친구-이성친구 만남  \n",
       "1           0          산책-걷기              없음         없음         없음          없음  \n",
       "2           0  헬스-보디빌딩 직접 하기    어학-기술-자격증 취득  영상 컨텐츠 시청   등산 직접 하기  친구-이성친구 만남  "
      ]
     },
     "execution_count": 17,
     "metadata": {},
     "output_type": "execute_result"
    }
   ],
   "source": [
    "df.head(3)"
   ]
  },
  {
   "cell_type": "markdown",
   "id": "c4649ae0-d074-4e9e-a88f-b2f1ee62bad1",
   "metadata": {},
   "source": [
    "## 평일/ 주말 의 평균레저시간에 대한 분석"
   ]
  },
  {
   "cell_type": "code",
   "execution_count": 18,
   "id": "20c786b6-b43d-44ae-8f14-7066027ff94b",
   "metadata": {},
   "outputs": [
    {
     "data": {
      "text/plain": [
       "평일일평균레저시간값\n",
       "2     13\n",
       "3     13\n",
       "5      7\n",
       "1      5\n",
       "4      3\n",
       "6      2\n",
       "7      2\n",
       "10     1\n",
       "8      1\n",
       "Name: count, dtype: int64"
      ]
     },
     "execution_count": 18,
     "metadata": {},
     "output_type": "execute_result"
    }
   ],
   "source": [
    "df['평일일평균레저시간값'].value_counts()"
   ]
  },
  {
   "cell_type": "code",
   "execution_count": 19,
   "id": "073a272b-f094-416d-84e4-3b501c7aee45",
   "metadata": {},
   "outputs": [
    {
     "data": {
      "text/plain": [
       "count    47.000000\n",
       "mean      3.425532\n",
       "std       1.975334\n",
       "min       1.000000\n",
       "25%       2.000000\n",
       "50%       3.000000\n",
       "75%       5.000000\n",
       "max      10.000000\n",
       "Name: 평일일평균레저시간값, dtype: float64"
      ]
     },
     "execution_count": 19,
     "metadata": {},
     "output_type": "execute_result"
    }
   ],
   "source": [
    "df['평일일평균레저시간값'].describe().T"
   ]
  },
  {
   "cell_type": "markdown",
   "id": "74fb25c8-50b8-4083-979a-78471038bc08",
   "metadata": {},
   "source": [
    "### boxplot"
   ]
  },
  {
   "cell_type": "code",
   "execution_count": 20,
   "id": "6a39af57-600e-4e57-896a-236f0010423d",
   "metadata": {},
   "outputs": [
    {
     "data": {
      "text/plain": [
       "<Axes: ylabel='평일일평균레저시간값'>"
      ]
     },
     "execution_count": 20,
     "metadata": {},
     "output_type": "execute_result"
    },
    {
     "data": {
      "image/png": "[encoded data removed]",
      "text/plain": [
       "<Figure size 640x480 with 1 Axes>"
      ]
     },
     "metadata": {},
     "output_type": "display_data"
    }
   ],
   "source": [
    "# 이상치를 확인하지만 결국 그 기록 또한 중요하기 때문에 대체/삭제 하지 않겠다.\n",
    "import seaborn as sns\n",
    "\n",
    "sns.boxplot(df['평일일평균레저시간값'])"
   ]
  },
  {
   "cell_type": "code",
   "execution_count": 21,
   "id": "6b89180c-51fc-43d5-bddc-4ad89f5342a9",
   "metadata": {},
   "outputs": [
    {
     "data": {
      "text/html": [
       "<div>\n",
       "<style scoped>\n",
       "    .dataframe tbody tr th:only-of-type {\n",
       "        vertical-align: middle;\n",
       "    }\n",
       "\n",
       "    .dataframe tbody tr th {\n",
       "        vertical-align: top;\n",
       "    }\n",
       "\n",
       "    .dataframe thead th {\n",
       "        text-align: right;\n",
       "    }\n",
       "</style>\n",
       "<table border=\"1\" class=\"dataframe\">\n",
       "  <thead>\n",
       "    <tr style=\"text-align: right;\">\n",
       "      <th></th>\n",
       "      <th>count</th>\n",
       "    </tr>\n",
       "    <tr>\n",
       "      <th>평일일평균레저시간값</th>\n",
       "      <th></th>\n",
       "    </tr>\n",
       "  </thead>\n",
       "  <tbody>\n",
       "    <tr>\n",
       "      <th>2</th>\n",
       "      <td>13</td>\n",
       "    </tr>\n",
       "    <tr>\n",
       "      <th>3</th>\n",
       "      <td>13</td>\n",
       "    </tr>\n",
       "    <tr>\n",
       "      <th>5</th>\n",
       "      <td>7</td>\n",
       "    </tr>\n",
       "    <tr>\n",
       "      <th>1</th>\n",
       "      <td>5</td>\n",
       "    </tr>\n",
       "    <tr>\n",
       "      <th>4</th>\n",
       "      <td>3</td>\n",
       "    </tr>\n",
       "    <tr>\n",
       "      <th>6</th>\n",
       "      <td>2</td>\n",
       "    </tr>\n",
       "    <tr>\n",
       "      <th>7</th>\n",
       "      <td>2</td>\n",
       "    </tr>\n",
       "    <tr>\n",
       "      <th>10</th>\n",
       "      <td>1</td>\n",
       "    </tr>\n",
       "    <tr>\n",
       "      <th>8</th>\n",
       "      <td>1</td>\n",
       "    </tr>\n",
       "  </tbody>\n",
       "</table>\n",
       "</div>"
      ],
      "text/plain": [
       "            count\n",
       "평일일평균레저시간값       \n",
       "2              13\n",
       "3              13\n",
       "5               7\n",
       "1               5\n",
       "4               3\n",
       "6               2\n",
       "7               2\n",
       "10              1\n",
       "8               1"
      ]
     },
     "execution_count": 21,
     "metadata": {},
     "output_type": "execute_result"
    }
   ],
   "source": [
    "df_weekdays = pd.DataFrame(df['평일일평균레저시간값'].value_counts())\n",
    "df_weekdays"
   ]
  },
  {
   "cell_type": "code",
   "execution_count": 22,
   "id": "94e607ba-b511-489a-969b-4358275801e3",
   "metadata": {},
   "outputs": [
    {
     "data": {
      "text/plain": [
       "Index([2, 3, 5, 1, 4, 6, 7, 10, 8], dtype='int64', name='평일일평균레저시간값')"
      ]
     },
     "execution_count": 22,
     "metadata": {},
     "output_type": "execute_result"
    }
   ],
   "source": [
    "df_weekdays.index"
   ]
  },
  {
   "cell_type": "code",
   "execution_count": 23,
   "id": "b2a222d4-124c-43fa-aae4-ba10d3b1c972",
   "metadata": {},
   "outputs": [
    {
     "data": {
      "image/png": "[encoded data removed]",
      "text/plain": [
       "<Figure size 1000x600 with 1 Axes>"
      ]
     },
     "metadata": {},
     "output_type": "display_data"
    }
   ],
   "source": [
    "import pandas as pd\n",
    "import matplotlib.pyplot as plt\n",
    "\n",
    "# 산점도 그리기\n",
    "plt.figure(figsize=(10, 6))\n",
    "plt.scatter(df_weekdays.index, df_weekdays['count'], color='blue')\n",
    "plt.title('평일일평균레저시간 추이')\n",
    "plt.xlabel('평일일평균레저시간')\n",
    "plt.ylabel('명 수')\n",
    "plt.xticks(np.arange(1,11,1))\n",
    "plt.yticks(np.arange(1,14,1))\n",
    "plt.show()"
   ]
  },
  {
   "cell_type": "markdown",
   "id": "41c8b257-0d47-4ed1-b971-fc01a42cf9ee",
   "metadata": {},
   "source": [
    "## 평일 레저시간 분석결과"
   ]
  },
  {
   "cell_type": "markdown",
   "id": "efada535-a208-42c2-9cda-97a8238c6174",
   "metadata": {},
   "source": [
    "### 2030 청년들은 평일 2~3 시간 정도 여가시간을 보내는 것이 보통이다.\n",
    "### 평일에 보내는 레저시간의 평균은 3시간 정도."
   ]
  },
  {
   "cell_type": "code",
   "execution_count": 24,
   "id": "3f2057fe-4eab-4225-ac64-568205fd4c94",
   "metadata": {},
   "outputs": [
    {
     "data": {
      "text/plain": [
       "주말일평균레저시간값\n",
       "10    9\n",
       "8     9\n",
       "1     5\n",
       "7     4\n",
       "15    4\n",
       "5     3\n",
       "2     3\n",
       "4     3\n",
       "14    2\n",
       "6     2\n",
       "0     1\n",
       "12    1\n",
       "3     1\n",
       "Name: count, dtype: int64"
      ]
     },
     "execution_count": 24,
     "metadata": {},
     "output_type": "execute_result"
    }
   ],
   "source": [
    "df['주말일평균레저시간값'].value_counts()"
   ]
  },
  {
   "cell_type": "code",
   "execution_count": 25,
   "id": "217b6248-7bb8-4318-a355-a58049933e69",
   "metadata": {},
   "outputs": [
    {
     "data": {
      "text/plain": [
       "count    47.000000\n",
       "mean      7.297872\n",
       "std       4.237077\n",
       "min       0.000000\n",
       "25%       4.000000\n",
       "50%       8.000000\n",
       "75%      10.000000\n",
       "max      15.000000\n",
       "Name: 주말일평균레저시간값, dtype: float64"
      ]
     },
     "execution_count": 25,
     "metadata": {},
     "output_type": "execute_result"
    }
   ],
   "source": [
    "df['주말일평균레저시간값'].describe().T"
   ]
  },
  {
   "cell_type": "code",
   "execution_count": 26,
   "id": "d4235eb1-b73a-4ad7-8f46-e8f3548253c9",
   "metadata": {},
   "outputs": [
    {
     "data": {
      "text/html": [
       "<div>\n",
       "<style scoped>\n",
       "    .dataframe tbody tr th:only-of-type {\n",
       "        vertical-align: middle;\n",
       "    }\n",
       "\n",
       "    .dataframe tbody tr th {\n",
       "        vertical-align: top;\n",
       "    }\n",
       "\n",
       "    .dataframe thead th {\n",
       "        text-align: right;\n",
       "    }\n",
       "</style>\n",
       "<table border=\"1\" class=\"dataframe\">\n",
       "  <thead>\n",
       "    <tr style=\"text-align: right;\">\n",
       "      <th></th>\n",
       "      <th>count</th>\n",
       "    </tr>\n",
       "    <tr>\n",
       "      <th>주말일평균레저시간값</th>\n",
       "      <th></th>\n",
       "    </tr>\n",
       "  </thead>\n",
       "  <tbody>\n",
       "    <tr>\n",
       "      <th>10</th>\n",
       "      <td>9</td>\n",
       "    </tr>\n",
       "    <tr>\n",
       "      <th>8</th>\n",
       "      <td>9</td>\n",
       "    </tr>\n",
       "    <tr>\n",
       "      <th>1</th>\n",
       "      <td>5</td>\n",
       "    </tr>\n",
       "    <tr>\n",
       "      <th>7</th>\n",
       "      <td>4</td>\n",
       "    </tr>\n",
       "    <tr>\n",
       "      <th>15</th>\n",
       "      <td>4</td>\n",
       "    </tr>\n",
       "    <tr>\n",
       "      <th>5</th>\n",
       "      <td>3</td>\n",
       "    </tr>\n",
       "    <tr>\n",
       "      <th>2</th>\n",
       "      <td>3</td>\n",
       "    </tr>\n",
       "    <tr>\n",
       "      <th>4</th>\n",
       "      <td>3</td>\n",
       "    </tr>\n",
       "    <tr>\n",
       "      <th>14</th>\n",
       "      <td>2</td>\n",
       "    </tr>\n",
       "    <tr>\n",
       "      <th>6</th>\n",
       "      <td>2</td>\n",
       "    </tr>\n",
       "    <tr>\n",
       "      <th>0</th>\n",
       "      <td>1</td>\n",
       "    </tr>\n",
       "    <tr>\n",
       "      <th>12</th>\n",
       "      <td>1</td>\n",
       "    </tr>\n",
       "    <tr>\n",
       "      <th>3</th>\n",
       "      <td>1</td>\n",
       "    </tr>\n",
       "  </tbody>\n",
       "</table>\n",
       "</div>"
      ],
      "text/plain": [
       "            count\n",
       "주말일평균레저시간값       \n",
       "10              9\n",
       "8               9\n",
       "1               5\n",
       "7               4\n",
       "15              4\n",
       "5               3\n",
       "2               3\n",
       "4               3\n",
       "14              2\n",
       "6               2\n",
       "0               1\n",
       "12              1\n",
       "3               1"
      ]
     },
     "execution_count": 26,
     "metadata": {},
     "output_type": "execute_result"
    }
   ],
   "source": [
    "df_weekends = pd.DataFrame(df['주말일평균레저시간값'].value_counts())\n",
    "df_weekends"
   ]
  },
  {
   "cell_type": "code",
   "execution_count": 27,
   "id": "3b22bedd-6120-40a1-a209-88f7739116d8",
   "metadata": {},
   "outputs": [
    {
     "data": {
      "image/png": "[encoded data removed]",
      "text/plain": [
       "<Figure size 1000x600 with 1 Axes>"
      ]
     },
     "metadata": {},
     "output_type": "display_data"
    }
   ],
   "source": [
    "import pandas as pd\n",
    "import matplotlib.pyplot as plt\n",
    "\n",
    "# 산점도 그리기\n",
    "plt.figure(figsize=(10, 6))\n",
    "plt.scatter(df_weekends.index, df_weekends['count'], color='pink')\n",
    "plt.title('주말일평균레저시간 추이')\n",
    "plt.xlabel('주말일평균레저시간')\n",
    "plt.ylabel('명 수')\n",
    "plt.xticks(np.arange(0,16,1))\n",
    "plt.yticks(np.arange(1,10,1))\n",
    "plt.show()"
   ]
  },
  {
   "cell_type": "markdown",
   "id": "0b786757-da15-4559-9c82-61be473af056",
   "metadata": {},
   "source": [
    "## 주말 레저시간 분석결과"
   ]
  },
  {
   "cell_type": "markdown",
   "id": "2850b61d-7b1e-491d-9e00-a4183f56b1e0",
   "metadata": {},
   "source": [
    "### 2030 청년들은 주말 8~10 시간 정도 여가시간을 보내는 것이 보통이다.\n",
    "### 주말에 보내는 레저시간의 평균은 7시간30분 정도."
   ]
  },
  {
   "cell_type": "markdown",
   "id": "6c58511e-9fb3-41be-8d77-e2f189cd54bc",
   "metadata": {},
   "source": [
    "## 레저시간 사용비율 분석"
   ]
  },
  {
   "cell_type": "code",
   "execution_count": 28,
   "id": "4d88acaf-bf04-41b1-a97d-46e4688b1c4c",
   "metadata": {},
   "outputs": [
    {
     "data": {
      "text/plain": [
       "레저시간휴식오락사용비율\n",
       "20     10\n",
       "50      9\n",
       "30      5\n",
       "80      4\n",
       "10      3\n",
       "5       3\n",
       "60      3\n",
       "90      3\n",
       "100     3\n",
       "40      2\n",
       "45      1\n",
       "3       1\n",
       "Name: count, dtype: int64"
      ]
     },
     "execution_count": 28,
     "metadata": {},
     "output_type": "execute_result"
    }
   ],
   "source": [
    "df['레저시간휴식오락사용비율'].value_counts()"
   ]
  },
  {
   "cell_type": "code",
   "execution_count": 83,
   "id": "77048476-27d7-4557-b950-161981452ec0",
   "metadata": {},
   "outputs": [
    {
     "data": {
      "text/plain": [
       "count     47.000000\n",
       "mean      43.468085\n",
       "std       28.931592\n",
       "min        3.000000\n",
       "25%       20.000000\n",
       "50%       40.000000\n",
       "75%       60.000000\n",
       "max      100.000000\n",
       "Name: 레저시간휴식오락사용비율, dtype: float64"
      ]
     },
     "execution_count": 83,
     "metadata": {},
     "output_type": "execute_result"
    }
   ],
   "source": [
    "df['레저시간휴식오락사용비율'].describe().T"
   ]
  },
  {
   "cell_type": "code",
   "execution_count": 29,
   "id": "b78d120d-2370-49ba-996f-dd4cf2fb9581",
   "metadata": {},
   "outputs": [
    {
     "data": {
      "text/html": [
       "<div>\n",
       "<style scoped>\n",
       "    .dataframe tbody tr th:only-of-type {\n",
       "        vertical-align: middle;\n",
       "    }\n",
       "\n",
       "    .dataframe tbody tr th {\n",
       "        vertical-align: top;\n",
       "    }\n",
       "\n",
       "    .dataframe thead th {\n",
       "        text-align: right;\n",
       "    }\n",
       "</style>\n",
       "<table border=\"1\" class=\"dataframe\">\n",
       "  <thead>\n",
       "    <tr style=\"text-align: right;\">\n",
       "      <th></th>\n",
       "      <th>count</th>\n",
       "    </tr>\n",
       "    <tr>\n",
       "      <th>레저시간휴식오락사용비율</th>\n",
       "      <th></th>\n",
       "    </tr>\n",
       "  </thead>\n",
       "  <tbody>\n",
       "    <tr>\n",
       "      <th>20</th>\n",
       "      <td>10</td>\n",
       "    </tr>\n",
       "    <tr>\n",
       "      <th>50</th>\n",
       "      <td>9</td>\n",
       "    </tr>\n",
       "    <tr>\n",
       "      <th>30</th>\n",
       "      <td>5</td>\n",
       "    </tr>\n",
       "    <tr>\n",
       "      <th>80</th>\n",
       "      <td>4</td>\n",
       "    </tr>\n",
       "    <tr>\n",
       "      <th>10</th>\n",
       "      <td>3</td>\n",
       "    </tr>\n",
       "    <tr>\n",
       "      <th>5</th>\n",
       "      <td>3</td>\n",
       "    </tr>\n",
       "    <tr>\n",
       "      <th>60</th>\n",
       "      <td>3</td>\n",
       "    </tr>\n",
       "    <tr>\n",
       "      <th>90</th>\n",
       "      <td>3</td>\n",
       "    </tr>\n",
       "    <tr>\n",
       "      <th>100</th>\n",
       "      <td>3</td>\n",
       "    </tr>\n",
       "    <tr>\n",
       "      <th>40</th>\n",
       "      <td>2</td>\n",
       "    </tr>\n",
       "    <tr>\n",
       "      <th>45</th>\n",
       "      <td>1</td>\n",
       "    </tr>\n",
       "    <tr>\n",
       "      <th>3</th>\n",
       "      <td>1</td>\n",
       "    </tr>\n",
       "  </tbody>\n",
       "</table>\n",
       "</div>"
      ],
      "text/plain": [
       "              count\n",
       "레저시간휴식오락사용비율       \n",
       "20               10\n",
       "50                9\n",
       "30                5\n",
       "80                4\n",
       "10                3\n",
       "5                 3\n",
       "60                3\n",
       "90                3\n",
       "100               3\n",
       "40                2\n",
       "45                1\n",
       "3                 1"
      ]
     },
     "execution_count": 29,
     "metadata": {},
     "output_type": "execute_result"
    }
   ],
   "source": [
    "df_play = pd.DataFrame(df['레저시간휴식오락사용비율'].value_counts())\n",
    "df_play"
   ]
  },
  {
   "cell_type": "code",
   "execution_count": 30,
   "id": "e75cd5cc-c178-4799-b656-8f6f3d71f457",
   "metadata": {},
   "outputs": [
    {
     "data": {
      "image/png": "[encoded data removed]",
      "text/plain": [
       "<Figure size 1000x600 with 1 Axes>"
      ]
     },
     "metadata": {},
     "output_type": "display_data"
    }
   ],
   "source": [
    "import pandas as pd\n",
    "import matplotlib.pyplot as plt\n",
    "\n",
    "# 산점도 그리기\n",
    "plt.figure(figsize=(10, 6))\n",
    "plt.bar(df_play.index, df_play['count'], color='skyblue', width=1.5)\n",
    "plt.title('레저시간휴식오락사용비율 추이')\n",
    "plt.xlabel('레저시간 휴식/오락에 사용 비율(%)')\n",
    "plt.ylabel('명 수')\n",
    "plt.xticks(df_play.index)\n",
    "plt.yticks(np.arange(1,11,1))\n",
    "plt.show()"
   ]
  },
  {
   "cell_type": "markdown",
   "id": "2e648907-2d6f-469c-853d-40e37b6779e4",
   "metadata": {},
   "source": [
    "## 레저시간 휴식/오락에 사용 비율 분석 결과\n",
    "- 2030청년들은 여가시간 동안 휴식/오락에 20% or 50%를 소모함."
   ]
  },
  {
   "cell_type": "code",
   "execution_count": 31,
   "id": "b36e80cb-069c-4a07-9541-c151aa491b18",
   "metadata": {},
   "outputs": [
    {
     "data": {
      "text/plain": [
       "레저시간취미사용비율\n",
       "0     16\n",
       "20    11\n",
       "10     8\n",
       "30     4\n",
       "40     2\n",
       "5      2\n",
       "60     1\n",
       "25     1\n",
       "50     1\n",
       "2      1\n",
       "Name: count, dtype: int64"
      ]
     },
     "execution_count": 31,
     "metadata": {},
     "output_type": "execute_result"
    }
   ],
   "source": [
    "df['레저시간취미사용비율'].value_counts()"
   ]
  },
  {
   "cell_type": "code",
   "execution_count": 32,
   "id": "fda0df18-d3d8-4ef4-9f00-e6a90455540e",
   "metadata": {},
   "outputs": [
    {
     "data": {
      "text/html": [
       "<div>\n",
       "<style scoped>\n",
       "    .dataframe tbody tr th:only-of-type {\n",
       "        vertical-align: middle;\n",
       "    }\n",
       "\n",
       "    .dataframe tbody tr th {\n",
       "        vertical-align: top;\n",
       "    }\n",
       "\n",
       "    .dataframe thead th {\n",
       "        text-align: right;\n",
       "    }\n",
       "</style>\n",
       "<table border=\"1\" class=\"dataframe\">\n",
       "  <thead>\n",
       "    <tr style=\"text-align: right;\">\n",
       "      <th></th>\n",
       "      <th>count</th>\n",
       "    </tr>\n",
       "    <tr>\n",
       "      <th>레저시간취미사용비율</th>\n",
       "      <th></th>\n",
       "    </tr>\n",
       "  </thead>\n",
       "  <tbody>\n",
       "    <tr>\n",
       "      <th>0</th>\n",
       "      <td>16</td>\n",
       "    </tr>\n",
       "    <tr>\n",
       "      <th>20</th>\n",
       "      <td>11</td>\n",
       "    </tr>\n",
       "    <tr>\n",
       "      <th>10</th>\n",
       "      <td>8</td>\n",
       "    </tr>\n",
       "    <tr>\n",
       "      <th>30</th>\n",
       "      <td>4</td>\n",
       "    </tr>\n",
       "    <tr>\n",
       "      <th>40</th>\n",
       "      <td>2</td>\n",
       "    </tr>\n",
       "    <tr>\n",
       "      <th>5</th>\n",
       "      <td>2</td>\n",
       "    </tr>\n",
       "    <tr>\n",
       "      <th>60</th>\n",
       "      <td>1</td>\n",
       "    </tr>\n",
       "    <tr>\n",
       "      <th>25</th>\n",
       "      <td>1</td>\n",
       "    </tr>\n",
       "    <tr>\n",
       "      <th>50</th>\n",
       "      <td>1</td>\n",
       "    </tr>\n",
       "    <tr>\n",
       "      <th>2</th>\n",
       "      <td>1</td>\n",
       "    </tr>\n",
       "  </tbody>\n",
       "</table>\n",
       "</div>"
      ],
      "text/plain": [
       "            count\n",
       "레저시간취미사용비율       \n",
       "0              16\n",
       "20             11\n",
       "10              8\n",
       "30              4\n",
       "40              2\n",
       "5               2\n",
       "60              1\n",
       "25              1\n",
       "50              1\n",
       "2               1"
      ]
     },
     "execution_count": 32,
     "metadata": {},
     "output_type": "execute_result"
    }
   ],
   "source": [
    "df_hobby = pd.DataFrame(df['레저시간취미사용비율'].value_counts())\n",
    "df_hobby"
   ]
  },
  {
   "cell_type": "code",
   "execution_count": 37,
   "id": "37f0d453-b6f4-497c-993c-3cc5b8826de5",
   "metadata": {},
   "outputs": [
    {
     "data": {
      "image/png": "[encoded data removed]",
      "text/plain": [
       "<Figure size 1000x600 with 1 Axes>"
      ]
     },
     "metadata": {},
     "output_type": "display_data"
    }
   ],
   "source": [
    "import pandas as pd\n",
    "import matplotlib.pyplot as plt\n",
    "from matplotlib import font_manager as fm\n",
    "\n",
    "# 한글 폰트 경로 설정\n",
    "font_path = \"C:/Windows/Fonts/malgun.ttf\"\n",
    "font_prop = fm.FontProperties(fname=font_path)\n",
    "\n",
    "# 산점도 그리기\n",
    "plt.figure(figsize=(10, 6))\n",
    "plt.bar(df_hobby.index, df_hobby['count'], color='olive', width=1.5)\n",
    "plt.title('레저시간취미사용비율 추이',fontproperties=font_prop)\n",
    "plt.xlabel('레저시간 취미에 사용 비율(%)',fontproperties=font_prop)\n",
    "plt.ylabel('명 수',fontproperties=font_prop)\n",
    "plt.xticks(df_hobby.index,fontproperties=font_prop)\n",
    "plt.yticks(np.arange(1,17,1),fontproperties=font_prop)\n",
    "plt.show()"
   ]
  },
  {
   "cell_type": "markdown",
   "id": "4402195b-8e36-4e9e-9a7f-8e920e774a04",
   "metadata": {},
   "source": [
    "## 레저시간 취미에 사용 비율 분석 결과\n",
    "- 2030청년들은 여가시간 동안 취미활동을 하는 것에 흥미가 없다고 볼 수 있다."
   ]
  },
  {
   "cell_type": "code",
   "execution_count": 39,
   "id": "a93a7a43-4f18-4cf4-ab31-deb2d96f2428",
   "metadata": {},
   "outputs": [
    {
     "data": {
      "text/plain": [
       "레저시간본인계발사용비율\n",
       "0     18\n",
       "10    13\n",
       "20     8\n",
       "30     2\n",
       "5      2\n",
       "80     1\n",
       "2      1\n",
       "35     1\n",
       "15     1\n",
       "Name: count, dtype: int64"
      ]
     },
     "execution_count": 39,
     "metadata": {},
     "output_type": "execute_result"
    }
   ],
   "source": [
    "df['레저시간본인계발사용비율'].value_counts()"
   ]
  },
  {
   "cell_type": "code",
   "execution_count": 41,
   "id": "671381d1-c576-4c27-975c-262bfcd8eb8b",
   "metadata": {},
   "outputs": [
    {
     "data": {
      "text/html": [
       "<div>\n",
       "<style scoped>\n",
       "    .dataframe tbody tr th:only-of-type {\n",
       "        vertical-align: middle;\n",
       "    }\n",
       "\n",
       "    .dataframe tbody tr th {\n",
       "        vertical-align: top;\n",
       "    }\n",
       "\n",
       "    .dataframe thead th {\n",
       "        text-align: right;\n",
       "    }\n",
       "</style>\n",
       "<table border=\"1\" class=\"dataframe\">\n",
       "  <thead>\n",
       "    <tr style=\"text-align: right;\">\n",
       "      <th></th>\n",
       "      <th>count</th>\n",
       "    </tr>\n",
       "    <tr>\n",
       "      <th>레저시간본인계발사용비율</th>\n",
       "      <th></th>\n",
       "    </tr>\n",
       "  </thead>\n",
       "  <tbody>\n",
       "    <tr>\n",
       "      <th>0</th>\n",
       "      <td>18</td>\n",
       "    </tr>\n",
       "    <tr>\n",
       "      <th>10</th>\n",
       "      <td>13</td>\n",
       "    </tr>\n",
       "    <tr>\n",
       "      <th>20</th>\n",
       "      <td>8</td>\n",
       "    </tr>\n",
       "    <tr>\n",
       "      <th>30</th>\n",
       "      <td>2</td>\n",
       "    </tr>\n",
       "    <tr>\n",
       "      <th>5</th>\n",
       "      <td>2</td>\n",
       "    </tr>\n",
       "    <tr>\n",
       "      <th>80</th>\n",
       "      <td>1</td>\n",
       "    </tr>\n",
       "    <tr>\n",
       "      <th>2</th>\n",
       "      <td>1</td>\n",
       "    </tr>\n",
       "    <tr>\n",
       "      <th>35</th>\n",
       "      <td>1</td>\n",
       "    </tr>\n",
       "    <tr>\n",
       "      <th>15</th>\n",
       "      <td>1</td>\n",
       "    </tr>\n",
       "  </tbody>\n",
       "</table>\n",
       "</div>"
      ],
      "text/plain": [
       "              count\n",
       "레저시간본인계발사용비율       \n",
       "0                18\n",
       "10               13\n",
       "20                8\n",
       "30                2\n",
       "5                 2\n",
       "80                1\n",
       "2                 1\n",
       "35                1\n",
       "15                1"
      ]
     },
     "execution_count": 41,
     "metadata": {},
     "output_type": "execute_result"
    }
   ],
   "source": [
    "df_self = pd.DataFrame(df['레저시간본인계발사용비율'].value_counts())\n",
    "df_self"
   ]
  },
  {
   "cell_type": "code",
   "execution_count": 43,
   "id": "d7703f2d-8a8a-44cb-b3a1-70f8b197c31a",
   "metadata": {},
   "outputs": [
    {
     "data": {
      "image/png": "[encoded data removed]",
      "text/plain": [
       "<Figure size 1000x600 with 1 Axes>"
      ]
     },
     "metadata": {},
     "output_type": "display_data"
    }
   ],
   "source": [
    "import pandas as pd\n",
    "import matplotlib.pyplot as plt\n",
    "from matplotlib import font_manager as fm\n",
    "\n",
    "# 한글 폰트 경로 설정\n",
    "font_path = \"C:/Windows/Fonts/malgun.ttf\"\n",
    "font_prop = fm.FontProperties(fname=font_path)\n",
    "\n",
    "# 산점도 그리기\n",
    "plt.figure(figsize=(10, 6))\n",
    "plt.bar(df_self.index, df_self['count'], color='red', width=1.5)\n",
    "plt.title('레저시간본인계발사용비율 추이',fontproperties=font_prop)\n",
    "plt.xlabel('레저시간 본인계발에 사용 비율(%)',fontproperties=font_prop)\n",
    "plt.ylabel('명 수',fontproperties=font_prop)\n",
    "plt.xticks(df_self.index,fontproperties=font_prop)\n",
    "plt.yticks(np.arange(1,19,1),fontproperties=font_prop)\n",
    "plt.show()"
   ]
  },
  {
   "cell_type": "markdown",
   "id": "7b64a199-bf0f-4e6c-99c6-383d4a77f87c",
   "metadata": {},
   "source": [
    "## 레저시간 본인계발에 사용 비율 분석 결과\n",
    "- 여가시간이라는 특성 상 본인계발에 몰두하는 비율이 매우 적다."
   ]
  },
  {
   "cell_type": "code",
   "execution_count": 44,
   "id": "519b9f74-2bfc-483c-aa65-d446892ee72a",
   "metadata": {},
   "outputs": [
    {
     "data": {
      "text/plain": [
       "레저시간대인관계교제사용비율\n",
       "30    8\n",
       "20    7\n",
       "50    7\n",
       "0     6\n",
       "40    6\n",
       "10    3\n",
       "60    3\n",
       "35    2\n",
       "8     1\n",
       "55    1\n",
       "25    1\n",
       "70    1\n",
       "90    1\n",
       "Name: count, dtype: int64"
      ]
     },
     "execution_count": 44,
     "metadata": {},
     "output_type": "execute_result"
    }
   ],
   "source": [
    "df['레저시간대인관계교제사용비율'].value_counts()"
   ]
  },
  {
   "cell_type": "code",
   "execution_count": 46,
   "id": "ccfe97b4-089f-4bdf-b536-85bdfd41ca30",
   "metadata": {},
   "outputs": [
    {
     "data": {
      "text/html": [
       "<div>\n",
       "<style scoped>\n",
       "    .dataframe tbody tr th:only-of-type {\n",
       "        vertical-align: middle;\n",
       "    }\n",
       "\n",
       "    .dataframe tbody tr th {\n",
       "        vertical-align: top;\n",
       "    }\n",
       "\n",
       "    .dataframe thead th {\n",
       "        text-align: right;\n",
       "    }\n",
       "</style>\n",
       "<table border=\"1\" class=\"dataframe\">\n",
       "  <thead>\n",
       "    <tr style=\"text-align: right;\">\n",
       "      <th></th>\n",
       "      <th>count</th>\n",
       "    </tr>\n",
       "    <tr>\n",
       "      <th>레저시간대인관계교제사용비율</th>\n",
       "      <th></th>\n",
       "    </tr>\n",
       "  </thead>\n",
       "  <tbody>\n",
       "    <tr>\n",
       "      <th>30</th>\n",
       "      <td>8</td>\n",
       "    </tr>\n",
       "    <tr>\n",
       "      <th>20</th>\n",
       "      <td>7</td>\n",
       "    </tr>\n",
       "    <tr>\n",
       "      <th>50</th>\n",
       "      <td>7</td>\n",
       "    </tr>\n",
       "    <tr>\n",
       "      <th>0</th>\n",
       "      <td>6</td>\n",
       "    </tr>\n",
       "    <tr>\n",
       "      <th>40</th>\n",
       "      <td>6</td>\n",
       "    </tr>\n",
       "    <tr>\n",
       "      <th>10</th>\n",
       "      <td>3</td>\n",
       "    </tr>\n",
       "    <tr>\n",
       "      <th>60</th>\n",
       "      <td>3</td>\n",
       "    </tr>\n",
       "    <tr>\n",
       "      <th>35</th>\n",
       "      <td>2</td>\n",
       "    </tr>\n",
       "    <tr>\n",
       "      <th>8</th>\n",
       "      <td>1</td>\n",
       "    </tr>\n",
       "    <tr>\n",
       "      <th>55</th>\n",
       "      <td>1</td>\n",
       "    </tr>\n",
       "    <tr>\n",
       "      <th>25</th>\n",
       "      <td>1</td>\n",
       "    </tr>\n",
       "    <tr>\n",
       "      <th>70</th>\n",
       "      <td>1</td>\n",
       "    </tr>\n",
       "    <tr>\n",
       "      <th>90</th>\n",
       "      <td>1</td>\n",
       "    </tr>\n",
       "  </tbody>\n",
       "</table>\n",
       "</div>"
      ],
      "text/plain": [
       "                count\n",
       "레저시간대인관계교제사용비율       \n",
       "30                  8\n",
       "20                  7\n",
       "50                  7\n",
       "0                   6\n",
       "40                  6\n",
       "10                  3\n",
       "60                  3\n",
       "35                  2\n",
       "8                   1\n",
       "55                  1\n",
       "25                  1\n",
       "70                  1\n",
       "90                  1"
      ]
     },
     "execution_count": 46,
     "metadata": {},
     "output_type": "execute_result"
    }
   ],
   "source": [
    "df_friend = pd.DataFrame(df['레저시간대인관계교제사용비율'].value_counts())\n",
    "df_friend"
   ]
  },
  {
   "cell_type": "code",
   "execution_count": 50,
   "id": "3f54139f-4a28-470a-8021-a8875d86ab40",
   "metadata": {},
   "outputs": [
    {
     "data": {
      "image/png": "[encoded data removed]",
      "text/plain": [
       "<Figure size 1000x600 with 1 Axes>"
      ]
     },
     "metadata": {},
     "output_type": "display_data"
    }
   ],
   "source": [
    "import pandas as pd\n",
    "import matplotlib.pyplot as plt\n",
    "from matplotlib import font_manager as fm\n",
    "\n",
    "# 한글 폰트 경로 설정\n",
    "font_path = \"C:/Windows/Fonts/malgun.ttf\"\n",
    "font_prop = fm.FontProperties(fname=font_path)\n",
    "\n",
    "# 산점도 그리기\n",
    "plt.figure(figsize=(10, 6))\n",
    "plt.bar(df_friend.index, df_friend['count'], color='yellow', width=1.5)\n",
    "plt.title('레저시간대인관계교제사용비율 추이',fontproperties=font_prop)\n",
    "plt.xlabel('레저시간 대인관계/교제에 사용 비율(%)',fontproperties=font_prop)\n",
    "plt.ylabel('명 수',fontproperties=font_prop)\n",
    "plt.xticks(df_friend.index,fontproperties=font_prop)\n",
    "plt.yticks(np.arange(1,9,1),fontproperties=font_prop)\n",
    "plt.show()"
   ]
  },
  {
   "cell_type": "code",
   "execution_count": 48,
   "id": "e8c564d8-db86-48ba-9cfd-e64967372234",
   "metadata": {},
   "outputs": [
    {
     "data": {
      "text/plain": [
       "count    47.00000\n",
       "mean     31.87234\n",
       "std      20.65200\n",
       "min       0.00000\n",
       "25%      20.00000\n",
       "50%      30.00000\n",
       "75%      50.00000\n",
       "max      90.00000\n",
       "Name: 레저시간대인관계교제사용비율, dtype: float64"
      ]
     },
     "execution_count": 48,
     "metadata": {},
     "output_type": "execute_result"
    }
   ],
   "source": [
    "df['레저시간대인관계교제사용비율'].describe().T"
   ]
  },
  {
   "cell_type": "markdown",
   "id": "d49b56cc-df35-4449-9a8c-374e4cd3c747",
   "metadata": {},
   "source": [
    "## 레저시간 대인관계/교제에 사용 비율 분석 결과\n",
    "- 2030청년들은 60% 미만 정도에선 비교적 고루 사용하고 있다."
   ]
  },
  {
   "cell_type": "markdown",
   "id": "6c67791c-07e2-4465-97bf-a1ee0bfa16d1",
   "metadata": {},
   "source": [
    "## 2030 관심 레저활동 1&2순위 분석"
   ]
  },
  {
   "cell_type": "code",
   "execution_count": 53,
   "id": "2dc5fc0c-b4f6-4da8-92d6-af73df5e21d3",
   "metadata": {},
   "outputs": [
    {
     "data": {
      "text/plain": [
       "관심레저활동1순위값\n",
       "게임                   5\n",
       "영상 컨텐츠 시청            4\n",
       "SNS -인터넷 커뮤니티 활동     3\n",
       "국내 여행                3\n",
       "헬스-보디빌딩 직접 하기        2\n",
       "어학-기술-자격증 취득         2\n",
       "산책-걷기                2\n",
       "e스포츠 영상 시청           2\n",
       "종교활동                 2\n",
       "음악 직접 활동 및 수강하기      2\n",
       "만화책 보기               1\n",
       "음악 공연 관람             1\n",
       "미용                   1\n",
       "반려동물 돌보기             1\n",
       "음주-유흥                1\n",
       "기타 취미-오락-휴식          1\n",
       "골프 직접 하기             1\n",
       "소풍-피크닉               1\n",
       "낚시                   1\n",
       "격투 스포츠 영상 시청         1\n",
       "갬블                   1\n",
       "맛집-카페 탐방             1\n",
       "가족-친지 만남             1\n",
       "수다-잡담하기              1\n",
       "춤-무용 직접 활동 및 수강하기    1\n",
       "인테리어                 1\n",
       "구기스포츠 직접 하기          1\n",
       "국내 프로스포츠 현장 관람       1\n",
       "걷기-속보-조깅 직접 하기       1\n",
       "생활공예-원예              1\n",
       "Name: count, dtype: int64"
      ]
     },
     "execution_count": 53,
     "metadata": {},
     "output_type": "execute_result"
    }
   ],
   "source": [
    "df['관심레저활동1순위값'].value_counts()"
   ]
  },
  {
   "cell_type": "code",
   "execution_count": 56,
   "id": "6ce2f0ba-a304-4abd-b47c-e414c36e0f0d",
   "metadata": {},
   "outputs": [
    {
     "data": {
      "text/html": [
       "<div>\n",
       "<style scoped>\n",
       "    .dataframe tbody tr th:only-of-type {\n",
       "        vertical-align: middle;\n",
       "    }\n",
       "\n",
       "    .dataframe tbody tr th {\n",
       "        vertical-align: top;\n",
       "    }\n",
       "\n",
       "    .dataframe thead th {\n",
       "        text-align: right;\n",
       "    }\n",
       "</style>\n",
       "<table border=\"1\" class=\"dataframe\">\n",
       "  <thead>\n",
       "    <tr style=\"text-align: right;\">\n",
       "      <th></th>\n",
       "      <th>count</th>\n",
       "    </tr>\n",
       "    <tr>\n",
       "      <th>관심레저활동1순위값</th>\n",
       "      <th></th>\n",
       "    </tr>\n",
       "  </thead>\n",
       "  <tbody>\n",
       "    <tr>\n",
       "      <th>게임</th>\n",
       "      <td>5</td>\n",
       "    </tr>\n",
       "    <tr>\n",
       "      <th>영상 컨텐츠 시청</th>\n",
       "      <td>4</td>\n",
       "    </tr>\n",
       "    <tr>\n",
       "      <th>SNS -인터넷 커뮤니티 활동</th>\n",
       "      <td>3</td>\n",
       "    </tr>\n",
       "    <tr>\n",
       "      <th>국내 여행</th>\n",
       "      <td>3</td>\n",
       "    </tr>\n",
       "    <tr>\n",
       "      <th>헬스-보디빌딩 직접 하기</th>\n",
       "      <td>2</td>\n",
       "    </tr>\n",
       "    <tr>\n",
       "      <th>어학-기술-자격증 취득</th>\n",
       "      <td>2</td>\n",
       "    </tr>\n",
       "    <tr>\n",
       "      <th>산책-걷기</th>\n",
       "      <td>2</td>\n",
       "    </tr>\n",
       "    <tr>\n",
       "      <th>e스포츠 영상 시청</th>\n",
       "      <td>2</td>\n",
       "    </tr>\n",
       "    <tr>\n",
       "      <th>종교활동</th>\n",
       "      <td>2</td>\n",
       "    </tr>\n",
       "    <tr>\n",
       "      <th>음악 직접 활동 및 수강하기</th>\n",
       "      <td>2</td>\n",
       "    </tr>\n",
       "    <tr>\n",
       "      <th>만화책 보기</th>\n",
       "      <td>1</td>\n",
       "    </tr>\n",
       "    <tr>\n",
       "      <th>음악 공연 관람</th>\n",
       "      <td>1</td>\n",
       "    </tr>\n",
       "    <tr>\n",
       "      <th>미용</th>\n",
       "      <td>1</td>\n",
       "    </tr>\n",
       "    <tr>\n",
       "      <th>반려동물 돌보기</th>\n",
       "      <td>1</td>\n",
       "    </tr>\n",
       "    <tr>\n",
       "      <th>음주-유흥</th>\n",
       "      <td>1</td>\n",
       "    </tr>\n",
       "    <tr>\n",
       "      <th>기타 취미-오락-휴식</th>\n",
       "      <td>1</td>\n",
       "    </tr>\n",
       "    <tr>\n",
       "      <th>골프 직접 하기</th>\n",
       "      <td>1</td>\n",
       "    </tr>\n",
       "    <tr>\n",
       "      <th>소풍-피크닉</th>\n",
       "      <td>1</td>\n",
       "    </tr>\n",
       "    <tr>\n",
       "      <th>낚시</th>\n",
       "      <td>1</td>\n",
       "    </tr>\n",
       "    <tr>\n",
       "      <th>격투 스포츠 영상 시청</th>\n",
       "      <td>1</td>\n",
       "    </tr>\n",
       "    <tr>\n",
       "      <th>갬블</th>\n",
       "      <td>1</td>\n",
       "    </tr>\n",
       "    <tr>\n",
       "      <th>맛집-카페 탐방</th>\n",
       "      <td>1</td>\n",
       "    </tr>\n",
       "    <tr>\n",
       "      <th>가족-친지 만남</th>\n",
       "      <td>1</td>\n",
       "    </tr>\n",
       "    <tr>\n",
       "      <th>수다-잡담하기</th>\n",
       "      <td>1</td>\n",
       "    </tr>\n",
       "    <tr>\n",
       "      <th>춤-무용 직접 활동 및 수강하기</th>\n",
       "      <td>1</td>\n",
       "    </tr>\n",
       "    <tr>\n",
       "      <th>인테리어</th>\n",
       "      <td>1</td>\n",
       "    </tr>\n",
       "    <tr>\n",
       "      <th>구기스포츠 직접 하기</th>\n",
       "      <td>1</td>\n",
       "    </tr>\n",
       "    <tr>\n",
       "      <th>국내 프로스포츠 현장 관람</th>\n",
       "      <td>1</td>\n",
       "    </tr>\n",
       "    <tr>\n",
       "      <th>걷기-속보-조깅 직접 하기</th>\n",
       "      <td>1</td>\n",
       "    </tr>\n",
       "    <tr>\n",
       "      <th>생활공예-원예</th>\n",
       "      <td>1</td>\n",
       "    </tr>\n",
       "  </tbody>\n",
       "</table>\n",
       "</div>"
      ],
      "text/plain": [
       "                   count\n",
       "관심레저활동1순위값              \n",
       "게임                     5\n",
       "영상 컨텐츠 시청              4\n",
       "SNS -인터넷 커뮤니티 활동       3\n",
       "국내 여행                  3\n",
       "헬스-보디빌딩 직접 하기          2\n",
       "어학-기술-자격증 취득           2\n",
       "산책-걷기                  2\n",
       "e스포츠 영상 시청             2\n",
       "종교활동                   2\n",
       "음악 직접 활동 및 수강하기        2\n",
       "만화책 보기                 1\n",
       "음악 공연 관람               1\n",
       "미용                     1\n",
       "반려동물 돌보기               1\n",
       "음주-유흥                  1\n",
       "기타 취미-오락-휴식            1\n",
       "골프 직접 하기               1\n",
       "소풍-피크닉                 1\n",
       "낚시                     1\n",
       "격투 스포츠 영상 시청           1\n",
       "갬블                     1\n",
       "맛집-카페 탐방               1\n",
       "가족-친지 만남               1\n",
       "수다-잡담하기                1\n",
       "춤-무용 직접 활동 및 수강하기      1\n",
       "인테리어                   1\n",
       "구기스포츠 직접 하기            1\n",
       "국내 프로스포츠 현장 관람         1\n",
       "걷기-속보-조깅 직접 하기         1\n",
       "생활공예-원예                1"
      ]
     },
     "execution_count": 56,
     "metadata": {},
     "output_type": "execute_result"
    }
   ],
   "source": [
    "df_interest1 = pd.DataFrame(df['관심레저활동1순위값'].value_counts())\n",
    "df_interest1"
   ]
  },
  {
   "cell_type": "code",
   "execution_count": 67,
   "id": "8fa77c2e-3a80-427b-aff5-e10a57a36c6b",
   "metadata": {},
   "outputs": [
    {
     "data": {
      "text/plain": [
       "count     47\n",
       "unique    30\n",
       "top       게임\n",
       "freq       5\n",
       "Name: 관심레저활동1순위값, dtype: object"
      ]
     },
     "execution_count": 67,
     "metadata": {},
     "output_type": "execute_result"
    }
   ],
   "source": [
    "df['관심레저활동1순위값'].describe(include='object')"
   ]
  },
  {
   "cell_type": "code",
   "execution_count": 81,
   "id": "5d331b29-7f01-4576-a441-ff4cb54dc2dc",
   "metadata": {},
   "outputs": [
    {
     "data": {
      "image/png": "[encoded data removed]",
      "text/plain": [
       "<Figure size 1000x600 with 1 Axes>"
      ]
     },
     "metadata": {},
     "output_type": "display_data"
    }
   ],
   "source": [
    "import pandas as pd\n",
    "import matplotlib.pyplot as plt\n",
    "from matplotlib import font_manager as fm\n",
    "\n",
    "# 한글 폰트 경로 설정\n",
    "font_path = \"C:/Windows/Fonts/malgun.ttf\"\n",
    "font_prop = fm.FontProperties(fname=font_path)\n",
    "\n",
    "# 산점도 그리기\n",
    "plt.figure(figsize=(10, 6))\n",
    "plt.barh(df_interest1.index, df_interest1['count'], color='purple')\n",
    "plt.title('관심레저활동1순위값 추이',fontproperties=font_prop)\n",
    "plt.xlabel('명 수',fontproperties=font_prop)\n",
    "plt.ylabel('관심레저활동1순위',fontproperties=font_prop)\n",
    "plt.yticks(fontproperties=font_prop)\n",
    "plt.show()"
   ]
  },
  {
   "cell_type": "code",
   "execution_count": 69,
   "id": "54c93023-a1c1-40ba-be7b-fee89c0abc3d",
   "metadata": {},
   "outputs": [
    {
     "data": {
      "text/plain": [
       "관심레저활동2순위값\n",
       "없음                     13\n",
       "SNS -인터넷 커뮤니티 활동        4\n",
       "게임                      4\n",
       "어학-기술-자격증 취득            3\n",
       "헬스-보디빌딩 직접 하기           3\n",
       "영상 컨텐츠 시청               3\n",
       "산책-걷기                   2\n",
       "쇼핑                      2\n",
       "친구-이성친구 만남              2\n",
       "낮잠자기                    2\n",
       "걷기-속보-조깅 직접 하기          1\n",
       "맛집-카페 탐방                1\n",
       "e스포츠 영상 시청              1\n",
       "영화관 관람                  1\n",
       "줄넘기-맨손체조-스트레칭 직접 하기     1\n",
       "국내 프로스포츠 영상 시청          1\n",
       "국내 프로스포츠 현장 관람          1\n",
       "사진 촬영                   1\n",
       "수영 직접 하기                1\n",
       "Name: count, dtype: int64"
      ]
     },
     "execution_count": 69,
     "metadata": {},
     "output_type": "execute_result"
    }
   ],
   "source": [
    "df['관심레저활동2순위값'].value_counts()"
   ]
  },
  {
   "cell_type": "code",
   "execution_count": 70,
   "id": "861ed928-7ad9-4b97-82f4-fe07e74ddf90",
   "metadata": {},
   "outputs": [
    {
     "data": {
      "text/plain": [
       "count     47\n",
       "unique    19\n",
       "top       없음\n",
       "freq      13\n",
       "Name: 관심레저활동2순위값, dtype: object"
      ]
     },
     "execution_count": 70,
     "metadata": {},
     "output_type": "execute_result"
    }
   ],
   "source": [
    "df['관심레저활동2순위값'].describe(include='object')"
   ]
  },
  {
   "cell_type": "code",
   "execution_count": 71,
   "id": "644b0ffe-e094-48df-a81b-def3a942fa94",
   "metadata": {},
   "outputs": [
    {
     "data": {
      "text/html": [
       "<div>\n",
       "<style scoped>\n",
       "    .dataframe tbody tr th:only-of-type {\n",
       "        vertical-align: middle;\n",
       "    }\n",
       "\n",
       "    .dataframe tbody tr th {\n",
       "        vertical-align: top;\n",
       "    }\n",
       "\n",
       "    .dataframe thead th {\n",
       "        text-align: right;\n",
       "    }\n",
       "</style>\n",
       "<table border=\"1\" class=\"dataframe\">\n",
       "  <thead>\n",
       "    <tr style=\"text-align: right;\">\n",
       "      <th></th>\n",
       "      <th>count</th>\n",
       "    </tr>\n",
       "    <tr>\n",
       "      <th>관심레저활동2순위값</th>\n",
       "      <th></th>\n",
       "    </tr>\n",
       "  </thead>\n",
       "  <tbody>\n",
       "    <tr>\n",
       "      <th>없음</th>\n",
       "      <td>13</td>\n",
       "    </tr>\n",
       "    <tr>\n",
       "      <th>SNS -인터넷 커뮤니티 활동</th>\n",
       "      <td>4</td>\n",
       "    </tr>\n",
       "    <tr>\n",
       "      <th>게임</th>\n",
       "      <td>4</td>\n",
       "    </tr>\n",
       "    <tr>\n",
       "      <th>어학-기술-자격증 취득</th>\n",
       "      <td>3</td>\n",
       "    </tr>\n",
       "    <tr>\n",
       "      <th>헬스-보디빌딩 직접 하기</th>\n",
       "      <td>3</td>\n",
       "    </tr>\n",
       "    <tr>\n",
       "      <th>영상 컨텐츠 시청</th>\n",
       "      <td>3</td>\n",
       "    </tr>\n",
       "    <tr>\n",
       "      <th>산책-걷기</th>\n",
       "      <td>2</td>\n",
       "    </tr>\n",
       "    <tr>\n",
       "      <th>쇼핑</th>\n",
       "      <td>2</td>\n",
       "    </tr>\n",
       "    <tr>\n",
       "      <th>친구-이성친구 만남</th>\n",
       "      <td>2</td>\n",
       "    </tr>\n",
       "    <tr>\n",
       "      <th>낮잠자기</th>\n",
       "      <td>2</td>\n",
       "    </tr>\n",
       "    <tr>\n",
       "      <th>걷기-속보-조깅 직접 하기</th>\n",
       "      <td>1</td>\n",
       "    </tr>\n",
       "    <tr>\n",
       "      <th>맛집-카페 탐방</th>\n",
       "      <td>1</td>\n",
       "    </tr>\n",
       "    <tr>\n",
       "      <th>e스포츠 영상 시청</th>\n",
       "      <td>1</td>\n",
       "    </tr>\n",
       "    <tr>\n",
       "      <th>영화관 관람</th>\n",
       "      <td>1</td>\n",
       "    </tr>\n",
       "    <tr>\n",
       "      <th>줄넘기-맨손체조-스트레칭 직접 하기</th>\n",
       "      <td>1</td>\n",
       "    </tr>\n",
       "    <tr>\n",
       "      <th>국내 프로스포츠 영상 시청</th>\n",
       "      <td>1</td>\n",
       "    </tr>\n",
       "    <tr>\n",
       "      <th>국내 프로스포츠 현장 관람</th>\n",
       "      <td>1</td>\n",
       "    </tr>\n",
       "    <tr>\n",
       "      <th>사진 촬영</th>\n",
       "      <td>1</td>\n",
       "    </tr>\n",
       "    <tr>\n",
       "      <th>수영 직접 하기</th>\n",
       "      <td>1</td>\n",
       "    </tr>\n",
       "  </tbody>\n",
       "</table>\n",
       "</div>"
      ],
      "text/plain": [
       "                     count\n",
       "관심레저활동2순위값                \n",
       "없음                      13\n",
       "SNS -인터넷 커뮤니티 활동         4\n",
       "게임                       4\n",
       "어학-기술-자격증 취득             3\n",
       "헬스-보디빌딩 직접 하기            3\n",
       "영상 컨텐츠 시청                3\n",
       "산책-걷기                    2\n",
       "쇼핑                       2\n",
       "친구-이성친구 만남               2\n",
       "낮잠자기                     2\n",
       "걷기-속보-조깅 직접 하기           1\n",
       "맛집-카페 탐방                 1\n",
       "e스포츠 영상 시청               1\n",
       "영화관 관람                   1\n",
       "줄넘기-맨손체조-스트레칭 직접 하기      1\n",
       "국내 프로스포츠 영상 시청           1\n",
       "국내 프로스포츠 현장 관람           1\n",
       "사진 촬영                    1\n",
       "수영 직접 하기                 1"
      ]
     },
     "execution_count": 71,
     "metadata": {},
     "output_type": "execute_result"
    }
   ],
   "source": [
    "df_interest2 = pd.DataFrame(df['관심레저활동2순위값'].value_counts())\n",
    "df_interest2"
   ]
  },
  {
   "cell_type": "code",
   "execution_count": 75,
   "id": "8f5cab2d-f407-4a61-99f6-fd8c6bea0182",
   "metadata": {},
   "outputs": [
    {
     "data": {
      "image/png": "[encoded data removed]",
      "text/plain": [
       "<Figure size 1000x600 with 1 Axes>"
      ]
     },
     "metadata": {},
     "output_type": "display_data"
    }
   ],
   "source": [
    "import pandas as pd\n",
    "import matplotlib.pyplot as plt\n",
    "from matplotlib import font_manager as fm\n",
    "\n",
    "# 한글 폰트 경로 설정\n",
    "font_path = \"C:/Windows/Fonts/malgun.ttf\"\n",
    "font_prop = fm.FontProperties(fname=font_path)\n",
    "\n",
    "# 산점도 그리기\n",
    "plt.figure(figsize=(10, 6))\n",
    "plt.barh(df_interest2.index, df_interest2['count'], color='navy')\n",
    "plt.title('관심레저활동2순위값 추이',fontproperties=font_prop)\n",
    "plt.xlabel('명 수',fontproperties=font_prop)\n",
    "plt.ylabel('관심레저활동2순위',fontproperties=font_prop)\n",
    "plt.xticks(np.arange(0,14,1))\n",
    "plt.yticks(fontproperties=font_prop)\n",
    "plt.show()"
   ]
  },
  {
   "cell_type": "markdown",
   "id": "884118a9-4f35-4d0d-88b9-318406d4ede0",
   "metadata": {},
   "source": [
    "### 관심레저활동 1,2순위 결과 :\n",
    "- 게임, 인터넷 커뮤니티 활동, 영상 컨텐츠 시청 등\n",
    "- 주로 2030청년들은 실내에서 할 수 있는 취미활동을 선호한다."
   ]
  },
  {
   "cell_type": "markdown",
   "id": "8c8838a9-c93a-4a69-b513-28cae31717ef",
   "metadata": {},
   "source": [
    "# 결론 : \n",
    "결론\n",
    "2030 청년들은 즐거움과 스트레스 해소 등을 채워주는 여가 활동들을 가장 선호하고\n",
    "다음으론 가족-지인 등 대인관계를 통해 할 수 있는 여가 활동을 보내며, \n",
    "마음의 안정과 휴식을 찾는 것도 선호하는 부류군이 있다.\n",
    "\n",
    "자기만족/즐거움과 스트레스를 해소하는 걸 가장 선호하는 사람들은 대부분\n",
    "2순위로 대인관계를 선호한다.\n",
    "\n",
    "2030청년들은 여가시간을 휴식/오락을 통해 채우며,\n",
    "여가시간을 취미로 보내는 사람은 거의 없거나 여가시간을 취미가 차지하는 비중이 매우 적다\n",
    "(의문점? 취미라는 단어의 정의가 여가시간에 보내길 선호하는 활동이 아닌가? 이런 설문조사결과가 나온 이유를 알아보고 싶다.)\n",
    "\n",
    "본인계발과 공부를 통해 여가시간을 채우는 걸 선호하는 사람은 극히 드물다.\n",
    "따라서 만약 우리 이커머스 사이트에 자격증 반이나, 공부하는 기회를 제공하는 상품을 판매하면\n",
    "이용자/선호자가 적을 것으로 예상된다.\n",
    "\n",
    "대인관계/교제가 여가시간을 차지하는 비중은,\n",
    "휴식/오락이 여가시간을 차지하는 비중보다 평균 10%정도 적다.(약 2시간)\n",
    "\n",
    "그러므로 (휴식/오락)과 (대인관계/교제) 활동을 하는데 사용할 수 있는 상품을 판매한다면,\n",
    "이용자가 있을 것으로 예상된다.\n",
    "\n",
    "관심레저활동 1,2순위 분석결과\n",
    "게임/인터넷커뮤니티/영상시청 등 2030청년들은 실내에서 할 수 있는 오락활동을 하며 여가시간을 보내는 걸 가장 선호한다.\n",
    "관련 상품을 판매한다면 가장 수요자가 많을 것으로 예측되지만,\n",
    "\n",
    "우리 목표가 은둔형 외톨이의 일상회복을 통한 [문화산업 부흥기여/취업(자기계발 상품을 선호하지 않을 것으로 예측됨으로 다른 관점이 없는 이상 버려야할듯)] 이기 때문에,\n",
    "실내 활동에 사용되는 이커머스 상품을 팔면 수요자는 많겠지만 우리 서비스 목적에 큰 효과를 주지 못할 것이다. \n",
    "\n",
    "그럼 그 다음 관심레저활동 선호는 , 국내여행/헬스/산책/음악 같은  활동들이다.\n",
    "이런 상품들을 어떻게 구상해야 할 지 앞으로 고민해봐야 할 일.\n",
    "\n",
    "결국은 이런 데이터를 분석했던 이유는,\n",
    "\n",
    "동일한 나이대의 일반인들이 여가시간을 보내는 방법에 대한 선호조사이기 때문에,\n",
    "우리 서비스의 이커머스를 통해 친구들이 하는 여가활동을 체험해보면서,\n",
    "은둔형 외톨이가 일상회복을 했을 때, \n",
    "사회에 잘 적응할 수 있을 거라는 기대감에 기반해서 진행했다.\n",
    "\n",
    "  "
   ]
  }
 ],
 "metadata": {
  "kernelspec": {
   "display_name": "Python 3 (ipykernel)",
   "language": "python",
   "name": "python3"
  },
  "language_info": {
   "codemirror_mode": {
    "name": "ipython",
    "version": 3
   },
   "file_extension": ".py",
   "mimetype": "text/x-python",
   "name": "python",
   "nbconvert_exporter": "python",
   "pygments_lexer": "ipython3",
   "version": "3.12.3"
  }
 },
 "nbformat": 4,
 "nbformat_minor": 5
}
